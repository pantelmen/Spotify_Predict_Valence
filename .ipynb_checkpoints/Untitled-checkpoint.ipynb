{
 "cells": [
  {
   "cell_type": "code",
   "execution_count": 1,
   "id": "d656c6f0",
   "metadata": {},
   "outputs": [],
   "source": [
    "import numpy as np\n",
    "import pandas as pd\n",
    "import matplotlib.pyplot as plt\n",
    "import glob\n",
    "import re\n",
    "from datetime import datetime\n",
    "import spotipy \n",
    "from spotipy.oauth2 import SpotifyClientCredentials\n",
    "import seaborn as sns"
   ]
  },
  {
   "cell_type": "code",
   "execution_count": null,
   "id": "b69a8ca0",
   "metadata": {},
   "outputs": [],
   "source": []
  },
  {
   "cell_type": "code",
   "execution_count": 2,
   "id": "c3e60122",
   "metadata": {},
   "outputs": [],
   "source": [
    "results = {}\n",
    "dfs = []\n",
    "for file in glob.glob('./data/Charts/*/201?/*.csv'):\n",
    "    region = file.split('/')[3]\n",
    "    dates = re.findall('\\d{4}-\\d{2}-\\d{2}',file.split('/')[-1])\n",
    "    weekly_chart = pd.read_csv(file,header=0,sep = '\\t')\n",
    "    weekly_chart['week_start'] = datetime.strptime(dates[0],\"%Y-%m-%d\")\n",
    "    weekly_chart['week_end'] = datetime.strptime(dates[1],\"%Y-%m-%d\")\n",
    "    weekly_chart[\"region\"] = region\n",
    "    dfs.append(weekly_chart)\n",
    "all_charts = pd.concat(dfs)"
   ]
  },
  {
   "cell_type": "code",
   "execution_count": 3,
   "id": "54e7df68",
   "metadata": {},
   "outputs": [
    {
     "data": {
      "text/html": [
       "<div>\n",
       "<style scoped>\n",
       "    .dataframe tbody tr th:only-of-type {\n",
       "        vertical-align: middle;\n",
       "    }\n",
       "\n",
       "    .dataframe tbody tr th {\n",
       "        vertical-align: top;\n",
       "    }\n",
       "\n",
       "    .dataframe thead th {\n",
       "        text-align: right;\n",
       "    }\n",
       "</style>\n",
       "<table border=\"1\" class=\"dataframe\">\n",
       "  <thead>\n",
       "    <tr style=\"text-align: right;\">\n",
       "      <th></th>\n",
       "      <th>position</th>\n",
       "      <th>song_id</th>\n",
       "      <th>song_name</th>\n",
       "      <th>artist</th>\n",
       "      <th>streams</th>\n",
       "      <th>last_week_position</th>\n",
       "      <th>weeks_on_chart</th>\n",
       "      <th>peak_position</th>\n",
       "      <th>position_status</th>\n",
       "      <th>week_start</th>\n",
       "      <th>week_end</th>\n",
       "      <th>region</th>\n",
       "    </tr>\n",
       "  </thead>\n",
       "  <tbody>\n",
       "    <tr>\n",
       "      <th>0</th>\n",
       "      <td>1</td>\n",
       "      <td>0QnEGWGECQUPuE3m8L6hdT</td>\n",
       "      <td>Jaloux</td>\n",
       "      <td>Dadju</td>\n",
       "      <td>1542282</td>\n",
       "      <td>3.0</td>\n",
       "      <td>6</td>\n",
       "      <td>1</td>\n",
       "      <td>2</td>\n",
       "      <td>2018-11-09</td>\n",
       "      <td>2018-11-16</td>\n",
       "      <td>fr</td>\n",
       "    </tr>\n",
       "    <tr>\n",
       "      <th>1</th>\n",
       "      <td>2</td>\n",
       "      <td>1Bhm5HNO1cq8olDbBmokyL</td>\n",
       "      <td>Copines</td>\n",
       "      <td>Aya Nakamura</td>\n",
       "      <td>1538486</td>\n",
       "      <td>1.0</td>\n",
       "      <td>2</td>\n",
       "      <td>1</td>\n",
       "      <td>-1</td>\n",
       "      <td>2018-11-09</td>\n",
       "      <td>2018-11-16</td>\n",
       "      <td>fr</td>\n",
       "    </tr>\n",
       "    <tr>\n",
       "      <th>2</th>\n",
       "      <td>3</td>\n",
       "      <td>4w8niZpiMy6qz1mntFA5uM</td>\n",
       "      <td>Taki Taki (with Selena Gomez, Ozuna &amp; Cardi B)</td>\n",
       "      <td>DJ Snake</td>\n",
       "      <td>1362549</td>\n",
       "      <td>5.0</td>\n",
       "      <td>7</td>\n",
       "      <td>3</td>\n",
       "      <td>2</td>\n",
       "      <td>2018-11-09</td>\n",
       "      <td>2018-11-16</td>\n",
       "      <td>fr</td>\n",
       "    </tr>\n",
       "    <tr>\n",
       "      <th>3</th>\n",
       "      <td>4</td>\n",
       "      <td>3aRgAfrt6aQW8IimLq2aVG</td>\n",
       "      <td>La dot</td>\n",
       "      <td>Aya Nakamura</td>\n",
       "      <td>1275798</td>\n",
       "      <td>2.0</td>\n",
       "      <td>2</td>\n",
       "      <td>2</td>\n",
       "      <td>-2</td>\n",
       "      <td>2018-11-09</td>\n",
       "      <td>2018-11-16</td>\n",
       "      <td>fr</td>\n",
       "    </tr>\n",
       "    <tr>\n",
       "      <th>4</th>\n",
       "      <td>5</td>\n",
       "      <td>6cKj3bzvVrOQtPfGhcKlRt</td>\n",
       "      <td>Madrina</td>\n",
       "      <td>Maes</td>\n",
       "      <td>1179686</td>\n",
       "      <td>6.0</td>\n",
       "      <td>3</td>\n",
       "      <td>1</td>\n",
       "      <td>1</td>\n",
       "      <td>2018-11-09</td>\n",
       "      <td>2018-11-16</td>\n",
       "      <td>fr</td>\n",
       "    </tr>\n",
       "    <tr>\n",
       "      <th>...</th>\n",
       "      <td>...</td>\n",
       "      <td>...</td>\n",
       "      <td>...</td>\n",
       "      <td>...</td>\n",
       "      <td>...</td>\n",
       "      <td>...</td>\n",
       "      <td>...</td>\n",
       "      <td>...</td>\n",
       "      <td>...</td>\n",
       "      <td>...</td>\n",
       "      <td>...</td>\n",
       "      <td>...</td>\n",
       "    </tr>\n",
       "    <tr>\n",
       "      <th>195</th>\n",
       "      <td>196</td>\n",
       "      <td>146Vb458Y5RbqEa0fYFPzm</td>\n",
       "      <td>Mentira - Ao Vivo</td>\n",
       "      <td>Felipe Araújo</td>\n",
       "      <td>647101</td>\n",
       "      <td>153.0</td>\n",
       "      <td>2</td>\n",
       "      <td>153</td>\n",
       "      <td>-43</td>\n",
       "      <td>2019-12-06</td>\n",
       "      <td>2019-12-13</td>\n",
       "      <td>br</td>\n",
       "    </tr>\n",
       "    <tr>\n",
       "      <th>196</th>\n",
       "      <td>197</td>\n",
       "      <td>41GMwa6sCB3iA2aS5T30iE</td>\n",
       "      <td>Trip do Boyzinho</td>\n",
       "      <td>Boyzinho o Rei da Bregadeira</td>\n",
       "      <td>646669</td>\n",
       "      <td>195.0</td>\n",
       "      <td>20</td>\n",
       "      <td>68</td>\n",
       "      <td>-2</td>\n",
       "      <td>2019-12-06</td>\n",
       "      <td>2019-12-13</td>\n",
       "      <td>br</td>\n",
       "    </tr>\n",
       "    <tr>\n",
       "      <th>197</th>\n",
       "      <td>198</td>\n",
       "      <td>4u7EnebtmKWzUH433cf5Qv</td>\n",
       "      <td>Bohemian Rhapsody - 2011 Mix</td>\n",
       "      <td>Queen</td>\n",
       "      <td>645988</td>\n",
       "      <td>196.0</td>\n",
       "      <td>36</td>\n",
       "      <td>95</td>\n",
       "      <td>-2</td>\n",
       "      <td>2019-12-06</td>\n",
       "      <td>2019-12-13</td>\n",
       "      <td>br</td>\n",
       "    </tr>\n",
       "    <tr>\n",
       "      <th>198</th>\n",
       "      <td>199</td>\n",
       "      <td>2srL4DYBekshpbprS6H0mO</td>\n",
       "      <td>Deixe Me Ir - Acústico</td>\n",
       "      <td>1Kilo</td>\n",
       "      <td>644908</td>\n",
       "      <td>197.0</td>\n",
       "      <td>130</td>\n",
       "      <td>1</td>\n",
       "      <td>-2</td>\n",
       "      <td>2019-12-06</td>\n",
       "      <td>2019-12-13</td>\n",
       "      <td>br</td>\n",
       "    </tr>\n",
       "    <tr>\n",
       "      <th>199</th>\n",
       "      <td>200</td>\n",
       "      <td>2SgVsDXzET5EU8VngMh9dv</td>\n",
       "      <td>Senta braba</td>\n",
       "      <td>MC WM</td>\n",
       "      <td>644138</td>\n",
       "      <td>184.0</td>\n",
       "      <td>32</td>\n",
       "      <td>23</td>\n",
       "      <td>-16</td>\n",
       "      <td>2019-12-06</td>\n",
       "      <td>2019-12-13</td>\n",
       "      <td>br</td>\n",
       "    </tr>\n",
       "  </tbody>\n",
       "</table>\n",
       "<p>273600 rows × 12 columns</p>\n",
       "</div>"
      ],
      "text/plain": [
       "     position                 song_id  \\\n",
       "0           1  0QnEGWGECQUPuE3m8L6hdT   \n",
       "1           2  1Bhm5HNO1cq8olDbBmokyL   \n",
       "2           3  4w8niZpiMy6qz1mntFA5uM   \n",
       "3           4  3aRgAfrt6aQW8IimLq2aVG   \n",
       "4           5  6cKj3bzvVrOQtPfGhcKlRt   \n",
       "..        ...                     ...   \n",
       "195       196  146Vb458Y5RbqEa0fYFPzm   \n",
       "196       197  41GMwa6sCB3iA2aS5T30iE   \n",
       "197       198  4u7EnebtmKWzUH433cf5Qv   \n",
       "198       199  2srL4DYBekshpbprS6H0mO   \n",
       "199       200  2SgVsDXzET5EU8VngMh9dv   \n",
       "\n",
       "                                          song_name  \\\n",
       "0                                            Jaloux   \n",
       "1                                           Copines   \n",
       "2    Taki Taki (with Selena Gomez, Ozuna & Cardi B)   \n",
       "3                                            La dot   \n",
       "4                                           Madrina   \n",
       "..                                              ...   \n",
       "195                               Mentira - Ao Vivo   \n",
       "196                                Trip do Boyzinho   \n",
       "197                    Bohemian Rhapsody - 2011 Mix   \n",
       "198                          Deixe Me Ir - Acústico   \n",
       "199                                     Senta braba   \n",
       "\n",
       "                           artist  streams  last_week_position  \\\n",
       "0                           Dadju  1542282                 3.0   \n",
       "1                    Aya Nakamura  1538486                 1.0   \n",
       "2                        DJ Snake  1362549                 5.0   \n",
       "3                    Aya Nakamura  1275798                 2.0   \n",
       "4                            Maes  1179686                 6.0   \n",
       "..                            ...      ...                 ...   \n",
       "195                 Felipe Araújo   647101               153.0   \n",
       "196  Boyzinho o Rei da Bregadeira   646669               195.0   \n",
       "197                         Queen   645988               196.0   \n",
       "198                         1Kilo   644908               197.0   \n",
       "199                         MC WM   644138               184.0   \n",
       "\n",
       "     weeks_on_chart  peak_position position_status week_start   week_end  \\\n",
       "0                 6              1               2 2018-11-09 2018-11-16   \n",
       "1                 2              1              -1 2018-11-09 2018-11-16   \n",
       "2                 7              3               2 2018-11-09 2018-11-16   \n",
       "3                 2              2              -2 2018-11-09 2018-11-16   \n",
       "4                 3              1               1 2018-11-09 2018-11-16   \n",
       "..              ...            ...             ...        ...        ...   \n",
       "195               2            153             -43 2019-12-06 2019-12-13   \n",
       "196              20             68              -2 2019-12-06 2019-12-13   \n",
       "197              36             95              -2 2019-12-06 2019-12-13   \n",
       "198             130              1              -2 2019-12-06 2019-12-13   \n",
       "199              32             23             -16 2019-12-06 2019-12-13   \n",
       "\n",
       "    region  \n",
       "0       fr  \n",
       "1       fr  \n",
       "2       fr  \n",
       "3       fr  \n",
       "4       fr  \n",
       "..     ...  \n",
       "195     br  \n",
       "196     br  \n",
       "197     br  \n",
       "198     br  \n",
       "199     br  \n",
       "\n",
       "[273600 rows x 12 columns]"
      ]
     },
     "execution_count": 3,
     "metadata": {},
     "output_type": "execute_result"
    }
   ],
   "source": [
    "all_charts"
   ]
  },
  {
   "cell_type": "code",
   "execution_count": 4,
   "id": "32f81c62",
   "metadata": {},
   "outputs": [],
   "source": [
    "from spotify_config import config\n",
    "\n",
    "client_credentials_manager = SpotifyClientCredentials(config[\"client_id\"],\n",
    "                                                    config[\"client_secret\"])\n",
    "sp = spotipy.Spotify(client_credentials_manager= client_credentials_manager)"
   ]
  },
  {
   "cell_type": "code",
   "execution_count": 5,
   "id": "f8d35495",
   "metadata": {},
   "outputs": [],
   "source": [
    "features = {}"
   ]
  },
  {
   "cell_type": "code",
   "execution_count": 6,
   "id": "f45e3d78",
   "metadata": {},
   "outputs": [
    {
     "name": "stdout",
     "output_type": "stream",
     "text": [
      "Getting from 0 to 100...\n",
      "Getting from 100 to 200...\n",
      "Getting from 200 to 300...\n",
      "Getting from 300 to 400...\n",
      "Getting from 400 to 500...\n",
      "Getting from 500 to 600...\n",
      "Getting from 600 to 700...\n",
      "Getting from 700 to 800...\n",
      "Getting from 800 to 900...\n",
      "Getting from 900 to 1000...\n",
      "Getting from 1000 to 1100...\n",
      "Getting from 1100 to 1200...\n",
      "Getting from 1200 to 1300...\n",
      "Getting from 1300 to 1400...\n",
      "Getting from 1400 to 1500...\n",
      "Getting from 1500 to 1600...\n",
      "Getting from 1600 to 1700...\n",
      "Getting from 1700 to 1800...\n",
      "Getting from 1800 to 1900...\n",
      "Getting from 1900 to 2000...\n",
      "Getting from 2000 to 2100...\n",
      "Getting from 2100 to 2200...\n",
      "Getting from 2200 to 2300...\n",
      "Getting from 2300 to 2400...\n",
      "Getting from 2400 to 2500...\n",
      "Getting from 2500 to 2600...\n",
      "Getting from 2600 to 2700...\n",
      "Getting from 2700 to 2800...\n",
      "Getting from 2800 to 2900...\n",
      "Getting from 2900 to 3000...\n",
      "Getting from 3000 to 3100...\n",
      "Getting from 3100 to 3200...\n",
      "Getting from 3200 to 3300...\n",
      "Getting from 3300 to 3400...\n",
      "Getting from 3400 to 3500...\n",
      "Getting from 3500 to 3600...\n",
      "Getting from 3600 to 3700...\n",
      "Getting from 3700 to 3800...\n",
      "Getting from 3800 to 3900...\n",
      "Getting from 3900 to 4000...\n",
      "Getting from 4000 to 4100...\n",
      "Getting from 4100 to 4200...\n",
      "Getting from 4200 to 4300...\n",
      "Getting from 4300 to 4400...\n",
      "Getting from 4400 to 4500...\n",
      "Getting from 4500 to 4600...\n",
      "Getting from 4600 to 4700...\n",
      "Getting from 4700 to 4800...\n",
      "Getting from 4800 to 4900...\n",
      "Getting from 4900 to 5000...\n",
      "Getting from 5000 to 5100...\n",
      "Getting from 5100 to 5200...\n",
      "Getting from 5200 to 5300...\n",
      "Getting from 5300 to 5400...\n",
      "Getting from 5400 to 5500...\n",
      "Getting from 5500 to 5600...\n",
      "Getting from 5600 to 5700...\n",
      "Getting from 5700 to 5800...\n",
      "Getting from 5800 to 5900...\n",
      "Getting from 5900 to 6000...\n",
      "Getting from 6000 to 6100...\n",
      "Getting from 6100 to 6200...\n",
      "Getting from 6200 to 6300...\n",
      "Getting from 6300 to 6400...\n",
      "Getting from 6400 to 6500...\n",
      "Getting from 6500 to 6600...\n",
      "Getting from 6600 to 6700...\n",
      "Getting from 6700 to 6800...\n",
      "Getting from 6800 to 6900...\n",
      "Getting from 6900 to 7000...\n",
      "Getting from 7000 to 7100...\n",
      "Getting from 7100 to 7200...\n",
      "Getting from 7200 to 7300...\n",
      "Getting from 7300 to 7400...\n",
      "Getting from 7400 to 7500...\n",
      "Getting from 7500 to 7600...\n",
      "Getting from 7600 to 7700...\n",
      "Getting from 7700 to 7800...\n",
      "Getting from 7800 to 7900...\n",
      "Getting from 7900 to 8000...\n",
      "Getting from 8000 to 8100...\n",
      "Getting from 8100 to 8200...\n",
      "Getting from 8200 to 8300...\n",
      "Getting from 8300 to 8400...\n",
      "Getting from 8400 to 8500...\n",
      "Getting from 8500 to 8600...\n",
      "Getting from 8600 to 8700...\n",
      "Getting from 8700 to 8800...\n",
      "Getting from 8800 to 8900...\n",
      "Getting from 8900 to 9000...\n",
      "Getting from 9000 to 9100...\n",
      "Getting from 9100 to 9200...\n",
      "Getting from 9200 to 9300...\n",
      "Getting from 9300 to 9400...\n",
      "Getting from 9400 to 9500...\n",
      "Getting from 9500 to 9600...\n",
      "Getting from 9600 to 9700...\n",
      "Getting from 9700 to 9800...\n",
      "Getting from 9800 to 9900...\n",
      "Getting from 9900 to 10000...\n",
      "Getting from 10000 to 10100...\n",
      "Getting from 10100 to 10200...\n",
      "Getting from 10200 to 10300...\n",
      "Getting from 10300 to 10400...\n",
      "Getting from 10400 to 10500...\n",
      "Getting from 10500 to 10600...\n",
      "Getting from 10600 to 10700...\n",
      "Getting from 10700 to 10800...\n",
      "Getting from 10800 to 10900...\n",
      "Getting from 10900 to 11000...\n",
      "Getting from 11000 to 11100...\n",
      "Getting from 11100 to 11200...\n",
      "Getting from 11200 to 11300...\n",
      "Getting from 11300 to 11400...\n",
      "Getting from 11400 to 11500...\n",
      "Getting from 11500 to 11600...\n",
      "Getting from 11600 to 11700...\n",
      "Getting from 11700 to 11800...\n",
      "Getting from 11800 to 11900...\n",
      "Getting from 11900 to 12000...\n",
      "Getting from 12000 to 12100...\n",
      "Getting from 12100 to 12200...\n",
      "Getting from 12200 to 12300...\n",
      "Getting from 12300 to 12400...\n",
      "Getting from 12400 to 12500...\n",
      "Getting from 12500 to 12600...\n",
      "Getting from 12600 to 12700...\n",
      "Getting from 12700 to 12800...\n",
      "Getting from 12800 to 12900...\n",
      "Getting from 12900 to 13000...\n",
      "Getting from 13000 to 13100...\n",
      "Getting from 13100 to 13200...\n",
      "Getting from 13200 to 13300...\n",
      "Getting from 13300 to 13400...\n",
      "Getting from 13400 to 13500...\n",
      "Getting from 13500 to 13600...\n",
      "Getting from 13600 to 13700...\n",
      "Getting from 13700 to 13800...\n",
      "Getting from 13800 to 13900...\n",
      "Features from 13880 tracks are downloaded\n"
     ]
    }
   ],
   "source": [
    "all_tracks_id = list(all_charts['song_id'].unique())\n",
    "start = 0 \n",
    "num_tracks = 100\n",
    "while start < len(all_tracks_id):\n",
    "    print(f\"Getting from {start} to {start+num_tracks}...\")\n",
    "    tracks_batch = all_tracks_id[start:start+num_tracks]\n",
    "    features_batch = sp.audio_features(tracks_batch)\n",
    "    features.update({tracks_id : track_features\n",
    "                    for tracks_id,track_features in zip(tracks_batch,features_batch)})\n",
    "    start+=num_tracks\n",
    "print(f\"Features from {len(features)} tracks are downloaded\")"
   ]
  },
  {
   "cell_type": "code",
   "execution_count": 7,
   "id": "f605068f",
   "metadata": {},
   "outputs": [
    {
     "data": {
      "text/html": [
       "<div>\n",
       "<style scoped>\n",
       "    .dataframe tbody tr th:only-of-type {\n",
       "        vertical-align: middle;\n",
       "    }\n",
       "\n",
       "    .dataframe tbody tr th {\n",
       "        vertical-align: top;\n",
       "    }\n",
       "\n",
       "    .dataframe thead th {\n",
       "        text-align: right;\n",
       "    }\n",
       "</style>\n",
       "<table border=\"1\" class=\"dataframe\">\n",
       "  <thead>\n",
       "    <tr style=\"text-align: right;\">\n",
       "      <th></th>\n",
       "      <th>danceability</th>\n",
       "      <th>energy</th>\n",
       "      <th>key</th>\n",
       "      <th>loudness</th>\n",
       "      <th>mode</th>\n",
       "      <th>speechiness</th>\n",
       "      <th>acousticness</th>\n",
       "      <th>instrumentalness</th>\n",
       "      <th>liveness</th>\n",
       "      <th>valence</th>\n",
       "      <th>tempo</th>\n",
       "      <th>type</th>\n",
       "      <th>id</th>\n",
       "      <th>uri</th>\n",
       "      <th>track_href</th>\n",
       "      <th>analysis_url</th>\n",
       "      <th>duration_ms</th>\n",
       "      <th>time_signature</th>\n",
       "    </tr>\n",
       "  </thead>\n",
       "  <tbody>\n",
       "    <tr>\n",
       "      <th>0QnEGWGECQUPuE3m8L6hdT</th>\n",
       "      <td>0.558</td>\n",
       "      <td>0.797</td>\n",
       "      <td>8</td>\n",
       "      <td>-3.890</td>\n",
       "      <td>0</td>\n",
       "      <td>0.0739</td>\n",
       "      <td>0.193</td>\n",
       "      <td>0.000000</td>\n",
       "      <td>0.3990</td>\n",
       "      <td>0.368</td>\n",
       "      <td>139.992</td>\n",
       "      <td>audio_features</td>\n",
       "      <td>0QnEGWGECQUPuE3m8L6hdT</td>\n",
       "      <td>spotify:track:0QnEGWGECQUPuE3m8L6hdT</td>\n",
       "      <td>https://api.spotify.com/v1/tracks/0QnEGWGECQUP...</td>\n",
       "      <td>https://api.spotify.com/v1/audio-analysis/0QnE...</td>\n",
       "      <td>233986</td>\n",
       "      <td>4</td>\n",
       "    </tr>\n",
       "    <tr>\n",
       "      <th>1Bhm5HNO1cq8olDbBmokyL</th>\n",
       "      <td>0.701</td>\n",
       "      <td>0.787</td>\n",
       "      <td>8</td>\n",
       "      <td>-3.941</td>\n",
       "      <td>0</td>\n",
       "      <td>0.0855</td>\n",
       "      <td>0.270</td>\n",
       "      <td>0.000000</td>\n",
       "      <td>0.1050</td>\n",
       "      <td>0.904</td>\n",
       "      <td>180.027</td>\n",
       "      <td>audio_features</td>\n",
       "      <td>1Bhm5HNO1cq8olDbBmokyL</td>\n",
       "      <td>spotify:track:1Bhm5HNO1cq8olDbBmokyL</td>\n",
       "      <td>https://api.spotify.com/v1/tracks/1Bhm5HNO1cq8...</td>\n",
       "      <td>https://api.spotify.com/v1/audio-analysis/1Bhm...</td>\n",
       "      <td>171720</td>\n",
       "      <td>4</td>\n",
       "    </tr>\n",
       "    <tr>\n",
       "      <th>4w8niZpiMy6qz1mntFA5uM</th>\n",
       "      <td>0.842</td>\n",
       "      <td>0.801</td>\n",
       "      <td>8</td>\n",
       "      <td>-4.167</td>\n",
       "      <td>0</td>\n",
       "      <td>0.2280</td>\n",
       "      <td>0.157</td>\n",
       "      <td>0.000005</td>\n",
       "      <td>0.0642</td>\n",
       "      <td>0.617</td>\n",
       "      <td>95.881</td>\n",
       "      <td>audio_features</td>\n",
       "      <td>4w8niZpiMy6qz1mntFA5uM</td>\n",
       "      <td>spotify:track:4w8niZpiMy6qz1mntFA5uM</td>\n",
       "      <td>https://api.spotify.com/v1/tracks/4w8niZpiMy6q...</td>\n",
       "      <td>https://api.spotify.com/v1/audio-analysis/4w8n...</td>\n",
       "      <td>212500</td>\n",
       "      <td>4</td>\n",
       "    </tr>\n",
       "    <tr>\n",
       "      <th>3aRgAfrt6aQW8IimLq2aVG</th>\n",
       "      <td>0.448</td>\n",
       "      <td>0.513</td>\n",
       "      <td>0</td>\n",
       "      <td>-6.108</td>\n",
       "      <td>1</td>\n",
       "      <td>0.1630</td>\n",
       "      <td>0.203</td>\n",
       "      <td>0.000000</td>\n",
       "      <td>0.0947</td>\n",
       "      <td>0.751</td>\n",
       "      <td>82.451</td>\n",
       "      <td>audio_features</td>\n",
       "      <td>3aRgAfrt6aQW8IimLq2aVG</td>\n",
       "      <td>spotify:track:3aRgAfrt6aQW8IimLq2aVG</td>\n",
       "      <td>https://api.spotify.com/v1/tracks/3aRgAfrt6aQW...</td>\n",
       "      <td>https://api.spotify.com/v1/audio-analysis/3aRg...</td>\n",
       "      <td>201720</td>\n",
       "      <td>4</td>\n",
       "    </tr>\n",
       "    <tr>\n",
       "      <th>6cKj3bzvVrOQtPfGhcKlRt</th>\n",
       "      <td>0.734</td>\n",
       "      <td>0.824</td>\n",
       "      <td>11</td>\n",
       "      <td>-5.201</td>\n",
       "      <td>0</td>\n",
       "      <td>0.0554</td>\n",
       "      <td>0.206</td>\n",
       "      <td>0.050700</td>\n",
       "      <td>0.3610</td>\n",
       "      <td>0.673</td>\n",
       "      <td>122.997</td>\n",
       "      <td>audio_features</td>\n",
       "      <td>6cKj3bzvVrOQtPfGhcKlRt</td>\n",
       "      <td>spotify:track:6cKj3bzvVrOQtPfGhcKlRt</td>\n",
       "      <td>https://api.spotify.com/v1/tracks/6cKj3bzvVrOQ...</td>\n",
       "      <td>https://api.spotify.com/v1/audio-analysis/6cKj...</td>\n",
       "      <td>220213</td>\n",
       "      <td>4</td>\n",
       "    </tr>\n",
       "    <tr>\n",
       "      <th>...</th>\n",
       "      <td>...</td>\n",
       "      <td>...</td>\n",
       "      <td>...</td>\n",
       "      <td>...</td>\n",
       "      <td>...</td>\n",
       "      <td>...</td>\n",
       "      <td>...</td>\n",
       "      <td>...</td>\n",
       "      <td>...</td>\n",
       "      <td>...</td>\n",
       "      <td>...</td>\n",
       "      <td>...</td>\n",
       "      <td>...</td>\n",
       "      <td>...</td>\n",
       "      <td>...</td>\n",
       "      <td>...</td>\n",
       "      <td>...</td>\n",
       "      <td>...</td>\n",
       "    </tr>\n",
       "    <tr>\n",
       "      <th>5FFpRbsH9WDYNoLauRAHpj</th>\n",
       "      <td>0.744</td>\n",
       "      <td>0.794</td>\n",
       "      <td>6</td>\n",
       "      <td>-4.409</td>\n",
       "      <td>0</td>\n",
       "      <td>0.0836</td>\n",
       "      <td>0.293</td>\n",
       "      <td>0.002070</td>\n",
       "      <td>0.0994</td>\n",
       "      <td>0.717</td>\n",
       "      <td>90.070</td>\n",
       "      <td>audio_features</td>\n",
       "      <td>5FFpRbsH9WDYNoLauRAHpj</td>\n",
       "      <td>spotify:track:5FFpRbsH9WDYNoLauRAHpj</td>\n",
       "      <td>https://api.spotify.com/v1/tracks/5FFpRbsH9WDY...</td>\n",
       "      <td>https://api.spotify.com/v1/audio-analysis/5FFp...</td>\n",
       "      <td>133333</td>\n",
       "      <td>4</td>\n",
       "    </tr>\n",
       "    <tr>\n",
       "      <th>36P6ptTyxOggYgR2aoZiAl</th>\n",
       "      <td>0.642</td>\n",
       "      <td>0.874</td>\n",
       "      <td>3</td>\n",
       "      <td>-3.162</td>\n",
       "      <td>1</td>\n",
       "      <td>0.1280</td>\n",
       "      <td>0.439</td>\n",
       "      <td>0.000000</td>\n",
       "      <td>0.0821</td>\n",
       "      <td>0.829</td>\n",
       "      <td>164.810</td>\n",
       "      <td>audio_features</td>\n",
       "      <td>36P6ptTyxOggYgR2aoZiAl</td>\n",
       "      <td>spotify:track:36P6ptTyxOggYgR2aoZiAl</td>\n",
       "      <td>https://api.spotify.com/v1/tracks/36P6ptTyxOgg...</td>\n",
       "      <td>https://api.spotify.com/v1/audio-analysis/36P6...</td>\n",
       "      <td>158662</td>\n",
       "      <td>4</td>\n",
       "    </tr>\n",
       "    <tr>\n",
       "      <th>3ZkTtSBN1wcSw35F8GDRmr</th>\n",
       "      <td>0.805</td>\n",
       "      <td>0.877</td>\n",
       "      <td>1</td>\n",
       "      <td>-2.978</td>\n",
       "      <td>0</td>\n",
       "      <td>0.0449</td>\n",
       "      <td>0.265</td>\n",
       "      <td>0.000000</td>\n",
       "      <td>0.2810</td>\n",
       "      <td>0.802</td>\n",
       "      <td>126.941</td>\n",
       "      <td>audio_features</td>\n",
       "      <td>3ZkTtSBN1wcSw35F8GDRmr</td>\n",
       "      <td>spotify:track:3ZkTtSBN1wcSw35F8GDRmr</td>\n",
       "      <td>https://api.spotify.com/v1/tracks/3ZkTtSBN1wcS...</td>\n",
       "      <td>https://api.spotify.com/v1/audio-analysis/3ZkT...</td>\n",
       "      <td>189866</td>\n",
       "      <td>4</td>\n",
       "    </tr>\n",
       "    <tr>\n",
       "      <th>3dPvQLKl42dMYWV4LWRTLK</th>\n",
       "      <td>0.775</td>\n",
       "      <td>0.886</td>\n",
       "      <td>6</td>\n",
       "      <td>-6.680</td>\n",
       "      <td>0</td>\n",
       "      <td>0.0476</td>\n",
       "      <td>0.589</td>\n",
       "      <td>0.000008</td>\n",
       "      <td>0.0991</td>\n",
       "      <td>0.939</td>\n",
       "      <td>172.013</td>\n",
       "      <td>audio_features</td>\n",
       "      <td>3dPvQLKl42dMYWV4LWRTLK</td>\n",
       "      <td>spotify:track:3dPvQLKl42dMYWV4LWRTLK</td>\n",
       "      <td>https://api.spotify.com/v1/tracks/3dPvQLKl42dM...</td>\n",
       "      <td>https://api.spotify.com/v1/audio-analysis/3dPv...</td>\n",
       "      <td>203076</td>\n",
       "      <td>4</td>\n",
       "    </tr>\n",
       "    <tr>\n",
       "      <th>4pl0csAczZemDLdyNYOmxT</th>\n",
       "      <td>0.751</td>\n",
       "      <td>0.697</td>\n",
       "      <td>0</td>\n",
       "      <td>-8.012</td>\n",
       "      <td>1</td>\n",
       "      <td>0.0581</td>\n",
       "      <td>0.223</td>\n",
       "      <td>0.000000</td>\n",
       "      <td>0.9240</td>\n",
       "      <td>0.555</td>\n",
       "      <td>141.427</td>\n",
       "      <td>audio_features</td>\n",
       "      <td>4pl0csAczZemDLdyNYOmxT</td>\n",
       "      <td>spotify:track:4pl0csAczZemDLdyNYOmxT</td>\n",
       "      <td>https://api.spotify.com/v1/tracks/4pl0csAczZem...</td>\n",
       "      <td>https://api.spotify.com/v1/audio-analysis/4pl0...</td>\n",
       "      <td>177805</td>\n",
       "      <td>4</td>\n",
       "    </tr>\n",
       "  </tbody>\n",
       "</table>\n",
       "<p>13880 rows × 18 columns</p>\n",
       "</div>"
      ],
      "text/plain": [
       "                        danceability  energy  key  loudness  mode  \\\n",
       "0QnEGWGECQUPuE3m8L6hdT         0.558   0.797    8    -3.890     0   \n",
       "1Bhm5HNO1cq8olDbBmokyL         0.701   0.787    8    -3.941     0   \n",
       "4w8niZpiMy6qz1mntFA5uM         0.842   0.801    8    -4.167     0   \n",
       "3aRgAfrt6aQW8IimLq2aVG         0.448   0.513    0    -6.108     1   \n",
       "6cKj3bzvVrOQtPfGhcKlRt         0.734   0.824   11    -5.201     0   \n",
       "...                              ...     ...  ...       ...   ...   \n",
       "5FFpRbsH9WDYNoLauRAHpj         0.744   0.794    6    -4.409     0   \n",
       "36P6ptTyxOggYgR2aoZiAl         0.642   0.874    3    -3.162     1   \n",
       "3ZkTtSBN1wcSw35F8GDRmr         0.805   0.877    1    -2.978     0   \n",
       "3dPvQLKl42dMYWV4LWRTLK         0.775   0.886    6    -6.680     0   \n",
       "4pl0csAczZemDLdyNYOmxT         0.751   0.697    0    -8.012     1   \n",
       "\n",
       "                        speechiness  acousticness  instrumentalness  liveness  \\\n",
       "0QnEGWGECQUPuE3m8L6hdT       0.0739         0.193          0.000000    0.3990   \n",
       "1Bhm5HNO1cq8olDbBmokyL       0.0855         0.270          0.000000    0.1050   \n",
       "4w8niZpiMy6qz1mntFA5uM       0.2280         0.157          0.000005    0.0642   \n",
       "3aRgAfrt6aQW8IimLq2aVG       0.1630         0.203          0.000000    0.0947   \n",
       "6cKj3bzvVrOQtPfGhcKlRt       0.0554         0.206          0.050700    0.3610   \n",
       "...                             ...           ...               ...       ...   \n",
       "5FFpRbsH9WDYNoLauRAHpj       0.0836         0.293          0.002070    0.0994   \n",
       "36P6ptTyxOggYgR2aoZiAl       0.1280         0.439          0.000000    0.0821   \n",
       "3ZkTtSBN1wcSw35F8GDRmr       0.0449         0.265          0.000000    0.2810   \n",
       "3dPvQLKl42dMYWV4LWRTLK       0.0476         0.589          0.000008    0.0991   \n",
       "4pl0csAczZemDLdyNYOmxT       0.0581         0.223          0.000000    0.9240   \n",
       "\n",
       "                        valence    tempo            type  \\\n",
       "0QnEGWGECQUPuE3m8L6hdT    0.368  139.992  audio_features   \n",
       "1Bhm5HNO1cq8olDbBmokyL    0.904  180.027  audio_features   \n",
       "4w8niZpiMy6qz1mntFA5uM    0.617   95.881  audio_features   \n",
       "3aRgAfrt6aQW8IimLq2aVG    0.751   82.451  audio_features   \n",
       "6cKj3bzvVrOQtPfGhcKlRt    0.673  122.997  audio_features   \n",
       "...                         ...      ...             ...   \n",
       "5FFpRbsH9WDYNoLauRAHpj    0.717   90.070  audio_features   \n",
       "36P6ptTyxOggYgR2aoZiAl    0.829  164.810  audio_features   \n",
       "3ZkTtSBN1wcSw35F8GDRmr    0.802  126.941  audio_features   \n",
       "3dPvQLKl42dMYWV4LWRTLK    0.939  172.013  audio_features   \n",
       "4pl0csAczZemDLdyNYOmxT    0.555  141.427  audio_features   \n",
       "\n",
       "                                            id  \\\n",
       "0QnEGWGECQUPuE3m8L6hdT  0QnEGWGECQUPuE3m8L6hdT   \n",
       "1Bhm5HNO1cq8olDbBmokyL  1Bhm5HNO1cq8olDbBmokyL   \n",
       "4w8niZpiMy6qz1mntFA5uM  4w8niZpiMy6qz1mntFA5uM   \n",
       "3aRgAfrt6aQW8IimLq2aVG  3aRgAfrt6aQW8IimLq2aVG   \n",
       "6cKj3bzvVrOQtPfGhcKlRt  6cKj3bzvVrOQtPfGhcKlRt   \n",
       "...                                        ...   \n",
       "5FFpRbsH9WDYNoLauRAHpj  5FFpRbsH9WDYNoLauRAHpj   \n",
       "36P6ptTyxOggYgR2aoZiAl  36P6ptTyxOggYgR2aoZiAl   \n",
       "3ZkTtSBN1wcSw35F8GDRmr  3ZkTtSBN1wcSw35F8GDRmr   \n",
       "3dPvQLKl42dMYWV4LWRTLK  3dPvQLKl42dMYWV4LWRTLK   \n",
       "4pl0csAczZemDLdyNYOmxT  4pl0csAczZemDLdyNYOmxT   \n",
       "\n",
       "                                                         uri  \\\n",
       "0QnEGWGECQUPuE3m8L6hdT  spotify:track:0QnEGWGECQUPuE3m8L6hdT   \n",
       "1Bhm5HNO1cq8olDbBmokyL  spotify:track:1Bhm5HNO1cq8olDbBmokyL   \n",
       "4w8niZpiMy6qz1mntFA5uM  spotify:track:4w8niZpiMy6qz1mntFA5uM   \n",
       "3aRgAfrt6aQW8IimLq2aVG  spotify:track:3aRgAfrt6aQW8IimLq2aVG   \n",
       "6cKj3bzvVrOQtPfGhcKlRt  spotify:track:6cKj3bzvVrOQtPfGhcKlRt   \n",
       "...                                                      ...   \n",
       "5FFpRbsH9WDYNoLauRAHpj  spotify:track:5FFpRbsH9WDYNoLauRAHpj   \n",
       "36P6ptTyxOggYgR2aoZiAl  spotify:track:36P6ptTyxOggYgR2aoZiAl   \n",
       "3ZkTtSBN1wcSw35F8GDRmr  spotify:track:3ZkTtSBN1wcSw35F8GDRmr   \n",
       "3dPvQLKl42dMYWV4LWRTLK  spotify:track:3dPvQLKl42dMYWV4LWRTLK   \n",
       "4pl0csAczZemDLdyNYOmxT  spotify:track:4pl0csAczZemDLdyNYOmxT   \n",
       "\n",
       "                                                               track_href  \\\n",
       "0QnEGWGECQUPuE3m8L6hdT  https://api.spotify.com/v1/tracks/0QnEGWGECQUP...   \n",
       "1Bhm5HNO1cq8olDbBmokyL  https://api.spotify.com/v1/tracks/1Bhm5HNO1cq8...   \n",
       "4w8niZpiMy6qz1mntFA5uM  https://api.spotify.com/v1/tracks/4w8niZpiMy6q...   \n",
       "3aRgAfrt6aQW8IimLq2aVG  https://api.spotify.com/v1/tracks/3aRgAfrt6aQW...   \n",
       "6cKj3bzvVrOQtPfGhcKlRt  https://api.spotify.com/v1/tracks/6cKj3bzvVrOQ...   \n",
       "...                                                                   ...   \n",
       "5FFpRbsH9WDYNoLauRAHpj  https://api.spotify.com/v1/tracks/5FFpRbsH9WDY...   \n",
       "36P6ptTyxOggYgR2aoZiAl  https://api.spotify.com/v1/tracks/36P6ptTyxOgg...   \n",
       "3ZkTtSBN1wcSw35F8GDRmr  https://api.spotify.com/v1/tracks/3ZkTtSBN1wcS...   \n",
       "3dPvQLKl42dMYWV4LWRTLK  https://api.spotify.com/v1/tracks/3dPvQLKl42dM...   \n",
       "4pl0csAczZemDLdyNYOmxT  https://api.spotify.com/v1/tracks/4pl0csAczZem...   \n",
       "\n",
       "                                                             analysis_url  \\\n",
       "0QnEGWGECQUPuE3m8L6hdT  https://api.spotify.com/v1/audio-analysis/0QnE...   \n",
       "1Bhm5HNO1cq8olDbBmokyL  https://api.spotify.com/v1/audio-analysis/1Bhm...   \n",
       "4w8niZpiMy6qz1mntFA5uM  https://api.spotify.com/v1/audio-analysis/4w8n...   \n",
       "3aRgAfrt6aQW8IimLq2aVG  https://api.spotify.com/v1/audio-analysis/3aRg...   \n",
       "6cKj3bzvVrOQtPfGhcKlRt  https://api.spotify.com/v1/audio-analysis/6cKj...   \n",
       "...                                                                   ...   \n",
       "5FFpRbsH9WDYNoLauRAHpj  https://api.spotify.com/v1/audio-analysis/5FFp...   \n",
       "36P6ptTyxOggYgR2aoZiAl  https://api.spotify.com/v1/audio-analysis/36P6...   \n",
       "3ZkTtSBN1wcSw35F8GDRmr  https://api.spotify.com/v1/audio-analysis/3ZkT...   \n",
       "3dPvQLKl42dMYWV4LWRTLK  https://api.spotify.com/v1/audio-analysis/3dPv...   \n",
       "4pl0csAczZemDLdyNYOmxT  https://api.spotify.com/v1/audio-analysis/4pl0...   \n",
       "\n",
       "                        duration_ms  time_signature  \n",
       "0QnEGWGECQUPuE3m8L6hdT       233986               4  \n",
       "1Bhm5HNO1cq8olDbBmokyL       171720               4  \n",
       "4w8niZpiMy6qz1mntFA5uM       212500               4  \n",
       "3aRgAfrt6aQW8IimLq2aVG       201720               4  \n",
       "6cKj3bzvVrOQtPfGhcKlRt       220213               4  \n",
       "...                             ...             ...  \n",
       "5FFpRbsH9WDYNoLauRAHpj       133333               4  \n",
       "36P6ptTyxOggYgR2aoZiAl       158662               4  \n",
       "3ZkTtSBN1wcSw35F8GDRmr       189866               4  \n",
       "3dPvQLKl42dMYWV4LWRTLK       203076               4  \n",
       "4pl0csAczZemDLdyNYOmxT       177805               4  \n",
       "\n",
       "[13880 rows x 18 columns]"
      ]
     },
     "execution_count": 7,
     "metadata": {},
     "output_type": "execute_result"
    }
   ],
   "source": [
    "tracks = pd.DataFrame.from_dict(features,orient='index')\n",
    "tracks"
   ]
  },
  {
   "cell_type": "code",
   "execution_count": null,
   "id": "81bfdb5a",
   "metadata": {},
   "outputs": [],
   "source": []
  },
  {
   "cell_type": "code",
   "execution_count": 8,
   "id": "f2c7c50f",
   "metadata": {},
   "outputs": [
    {
     "data": {
      "text/html": [
       "<div>\n",
       "<style scoped>\n",
       "    .dataframe tbody tr th:only-of-type {\n",
       "        vertical-align: middle;\n",
       "    }\n",
       "\n",
       "    .dataframe tbody tr th {\n",
       "        vertical-align: top;\n",
       "    }\n",
       "\n",
       "    .dataframe thead th {\n",
       "        text-align: right;\n",
       "    }\n",
       "</style>\n",
       "<table border=\"1\" class=\"dataframe\">\n",
       "  <thead>\n",
       "    <tr style=\"text-align: right;\">\n",
       "      <th></th>\n",
       "      <th>danceability</th>\n",
       "      <th>energy</th>\n",
       "      <th>key</th>\n",
       "      <th>loudness</th>\n",
       "      <th>mode</th>\n",
       "      <th>speechiness</th>\n",
       "      <th>acousticness</th>\n",
       "      <th>instrumentalness</th>\n",
       "      <th>liveness</th>\n",
       "      <th>valence</th>\n",
       "      <th>tempo</th>\n",
       "      <th>song_id</th>\n",
       "      <th>duration_ms</th>\n",
       "      <th>time_signature</th>\n",
       "    </tr>\n",
       "  </thead>\n",
       "  <tbody>\n",
       "    <tr>\n",
       "      <th>0</th>\n",
       "      <td>0.558</td>\n",
       "      <td>0.797</td>\n",
       "      <td>8</td>\n",
       "      <td>-3.890</td>\n",
       "      <td>0</td>\n",
       "      <td>0.0739</td>\n",
       "      <td>0.193</td>\n",
       "      <td>0.000000</td>\n",
       "      <td>0.3990</td>\n",
       "      <td>0.368</td>\n",
       "      <td>139.992</td>\n",
       "      <td>0QnEGWGECQUPuE3m8L6hdT</td>\n",
       "      <td>233986</td>\n",
       "      <td>4</td>\n",
       "    </tr>\n",
       "    <tr>\n",
       "      <th>1</th>\n",
       "      <td>0.701</td>\n",
       "      <td>0.787</td>\n",
       "      <td>8</td>\n",
       "      <td>-3.941</td>\n",
       "      <td>0</td>\n",
       "      <td>0.0855</td>\n",
       "      <td>0.270</td>\n",
       "      <td>0.000000</td>\n",
       "      <td>0.1050</td>\n",
       "      <td>0.904</td>\n",
       "      <td>180.027</td>\n",
       "      <td>1Bhm5HNO1cq8olDbBmokyL</td>\n",
       "      <td>171720</td>\n",
       "      <td>4</td>\n",
       "    </tr>\n",
       "    <tr>\n",
       "      <th>2</th>\n",
       "      <td>0.842</td>\n",
       "      <td>0.801</td>\n",
       "      <td>8</td>\n",
       "      <td>-4.167</td>\n",
       "      <td>0</td>\n",
       "      <td>0.2280</td>\n",
       "      <td>0.157</td>\n",
       "      <td>0.000005</td>\n",
       "      <td>0.0642</td>\n",
       "      <td>0.617</td>\n",
       "      <td>95.881</td>\n",
       "      <td>4w8niZpiMy6qz1mntFA5uM</td>\n",
       "      <td>212500</td>\n",
       "      <td>4</td>\n",
       "    </tr>\n",
       "    <tr>\n",
       "      <th>3</th>\n",
       "      <td>0.448</td>\n",
       "      <td>0.513</td>\n",
       "      <td>0</td>\n",
       "      <td>-6.108</td>\n",
       "      <td>1</td>\n",
       "      <td>0.1630</td>\n",
       "      <td>0.203</td>\n",
       "      <td>0.000000</td>\n",
       "      <td>0.0947</td>\n",
       "      <td>0.751</td>\n",
       "      <td>82.451</td>\n",
       "      <td>3aRgAfrt6aQW8IimLq2aVG</td>\n",
       "      <td>201720</td>\n",
       "      <td>4</td>\n",
       "    </tr>\n",
       "    <tr>\n",
       "      <th>4</th>\n",
       "      <td>0.734</td>\n",
       "      <td>0.824</td>\n",
       "      <td>11</td>\n",
       "      <td>-5.201</td>\n",
       "      <td>0</td>\n",
       "      <td>0.0554</td>\n",
       "      <td>0.206</td>\n",
       "      <td>0.050700</td>\n",
       "      <td>0.3610</td>\n",
       "      <td>0.673</td>\n",
       "      <td>122.997</td>\n",
       "      <td>6cKj3bzvVrOQtPfGhcKlRt</td>\n",
       "      <td>220213</td>\n",
       "      <td>4</td>\n",
       "    </tr>\n",
       "    <tr>\n",
       "      <th>...</th>\n",
       "      <td>...</td>\n",
       "      <td>...</td>\n",
       "      <td>...</td>\n",
       "      <td>...</td>\n",
       "      <td>...</td>\n",
       "      <td>...</td>\n",
       "      <td>...</td>\n",
       "      <td>...</td>\n",
       "      <td>...</td>\n",
       "      <td>...</td>\n",
       "      <td>...</td>\n",
       "      <td>...</td>\n",
       "      <td>...</td>\n",
       "      <td>...</td>\n",
       "    </tr>\n",
       "    <tr>\n",
       "      <th>13875</th>\n",
       "      <td>0.744</td>\n",
       "      <td>0.794</td>\n",
       "      <td>6</td>\n",
       "      <td>-4.409</td>\n",
       "      <td>0</td>\n",
       "      <td>0.0836</td>\n",
       "      <td>0.293</td>\n",
       "      <td>0.002070</td>\n",
       "      <td>0.0994</td>\n",
       "      <td>0.717</td>\n",
       "      <td>90.070</td>\n",
       "      <td>5FFpRbsH9WDYNoLauRAHpj</td>\n",
       "      <td>133333</td>\n",
       "      <td>4</td>\n",
       "    </tr>\n",
       "    <tr>\n",
       "      <th>13876</th>\n",
       "      <td>0.642</td>\n",
       "      <td>0.874</td>\n",
       "      <td>3</td>\n",
       "      <td>-3.162</td>\n",
       "      <td>1</td>\n",
       "      <td>0.1280</td>\n",
       "      <td>0.439</td>\n",
       "      <td>0.000000</td>\n",
       "      <td>0.0821</td>\n",
       "      <td>0.829</td>\n",
       "      <td>164.810</td>\n",
       "      <td>36P6ptTyxOggYgR2aoZiAl</td>\n",
       "      <td>158662</td>\n",
       "      <td>4</td>\n",
       "    </tr>\n",
       "    <tr>\n",
       "      <th>13877</th>\n",
       "      <td>0.805</td>\n",
       "      <td>0.877</td>\n",
       "      <td>1</td>\n",
       "      <td>-2.978</td>\n",
       "      <td>0</td>\n",
       "      <td>0.0449</td>\n",
       "      <td>0.265</td>\n",
       "      <td>0.000000</td>\n",
       "      <td>0.2810</td>\n",
       "      <td>0.802</td>\n",
       "      <td>126.941</td>\n",
       "      <td>3ZkTtSBN1wcSw35F8GDRmr</td>\n",
       "      <td>189866</td>\n",
       "      <td>4</td>\n",
       "    </tr>\n",
       "    <tr>\n",
       "      <th>13878</th>\n",
       "      <td>0.775</td>\n",
       "      <td>0.886</td>\n",
       "      <td>6</td>\n",
       "      <td>-6.680</td>\n",
       "      <td>0</td>\n",
       "      <td>0.0476</td>\n",
       "      <td>0.589</td>\n",
       "      <td>0.000008</td>\n",
       "      <td>0.0991</td>\n",
       "      <td>0.939</td>\n",
       "      <td>172.013</td>\n",
       "      <td>3dPvQLKl42dMYWV4LWRTLK</td>\n",
       "      <td>203076</td>\n",
       "      <td>4</td>\n",
       "    </tr>\n",
       "    <tr>\n",
       "      <th>13879</th>\n",
       "      <td>0.751</td>\n",
       "      <td>0.697</td>\n",
       "      <td>0</td>\n",
       "      <td>-8.012</td>\n",
       "      <td>1</td>\n",
       "      <td>0.0581</td>\n",
       "      <td>0.223</td>\n",
       "      <td>0.000000</td>\n",
       "      <td>0.9240</td>\n",
       "      <td>0.555</td>\n",
       "      <td>141.427</td>\n",
       "      <td>4pl0csAczZemDLdyNYOmxT</td>\n",
       "      <td>177805</td>\n",
       "      <td>4</td>\n",
       "    </tr>\n",
       "  </tbody>\n",
       "</table>\n",
       "<p>13880 rows × 14 columns</p>\n",
       "</div>"
      ],
      "text/plain": [
       "       danceability  energy  key  loudness  mode  speechiness  acousticness  \\\n",
       "0             0.558   0.797    8    -3.890     0       0.0739         0.193   \n",
       "1             0.701   0.787    8    -3.941     0       0.0855         0.270   \n",
       "2             0.842   0.801    8    -4.167     0       0.2280         0.157   \n",
       "3             0.448   0.513    0    -6.108     1       0.1630         0.203   \n",
       "4             0.734   0.824   11    -5.201     0       0.0554         0.206   \n",
       "...             ...     ...  ...       ...   ...          ...           ...   \n",
       "13875         0.744   0.794    6    -4.409     0       0.0836         0.293   \n",
       "13876         0.642   0.874    3    -3.162     1       0.1280         0.439   \n",
       "13877         0.805   0.877    1    -2.978     0       0.0449         0.265   \n",
       "13878         0.775   0.886    6    -6.680     0       0.0476         0.589   \n",
       "13879         0.751   0.697    0    -8.012     1       0.0581         0.223   \n",
       "\n",
       "       instrumentalness  liveness  valence    tempo                 song_id  \\\n",
       "0              0.000000    0.3990    0.368  139.992  0QnEGWGECQUPuE3m8L6hdT   \n",
       "1              0.000000    0.1050    0.904  180.027  1Bhm5HNO1cq8olDbBmokyL   \n",
       "2              0.000005    0.0642    0.617   95.881  4w8niZpiMy6qz1mntFA5uM   \n",
       "3              0.000000    0.0947    0.751   82.451  3aRgAfrt6aQW8IimLq2aVG   \n",
       "4              0.050700    0.3610    0.673  122.997  6cKj3bzvVrOQtPfGhcKlRt   \n",
       "...                 ...       ...      ...      ...                     ...   \n",
       "13875          0.002070    0.0994    0.717   90.070  5FFpRbsH9WDYNoLauRAHpj   \n",
       "13876          0.000000    0.0821    0.829  164.810  36P6ptTyxOggYgR2aoZiAl   \n",
       "13877          0.000000    0.2810    0.802  126.941  3ZkTtSBN1wcSw35F8GDRmr   \n",
       "13878          0.000008    0.0991    0.939  172.013  3dPvQLKl42dMYWV4LWRTLK   \n",
       "13879          0.000000    0.9240    0.555  141.427  4pl0csAczZemDLdyNYOmxT   \n",
       "\n",
       "       duration_ms  time_signature  \n",
       "0           233986               4  \n",
       "1           171720               4  \n",
       "2           212500               4  \n",
       "3           201720               4  \n",
       "4           220213               4  \n",
       "...            ...             ...  \n",
       "13875       133333               4  \n",
       "13876       158662               4  \n",
       "13877       189866               4  \n",
       "13878       203076               4  \n",
       "13879       177805               4  \n",
       "\n",
       "[13880 rows x 14 columns]"
      ]
     },
     "execution_count": 8,
     "metadata": {},
     "output_type": "execute_result"
    }
   ],
   "source": [
    "tracks = tracks.reset_index(drop=True).rename(columns={'id':'song_id'})\n",
    "tracks = tracks.drop(columns=['uri','track_href','analysis_url','type'])\n",
    "tracks"
   ]
  },
  {
   "cell_type": "code",
   "execution_count": null,
   "id": "34127de1",
   "metadata": {},
   "outputs": [],
   "source": []
  },
  {
   "cell_type": "code",
   "execution_count": null,
   "id": "c2f56fa8",
   "metadata": {},
   "outputs": [],
   "source": []
  },
  {
   "cell_type": "code",
   "execution_count": null,
   "id": "0fa549fc",
   "metadata": {},
   "outputs": [],
   "source": []
  },
  {
   "cell_type": "code",
   "execution_count": 9,
   "id": "f83d7286",
   "metadata": {},
   "outputs": [
    {
     "data": {
      "text/html": [
       "<div>\n",
       "<style scoped>\n",
       "    .dataframe tbody tr th:only-of-type {\n",
       "        vertical-align: middle;\n",
       "    }\n",
       "\n",
       "    .dataframe tbody tr th {\n",
       "        vertical-align: top;\n",
       "    }\n",
       "\n",
       "    .dataframe thead th {\n",
       "        text-align: right;\n",
       "    }\n",
       "</style>\n",
       "<table border=\"1\" class=\"dataframe\">\n",
       "  <thead>\n",
       "    <tr style=\"text-align: right;\">\n",
       "      <th></th>\n",
       "      <th>song_id</th>\n",
       "    </tr>\n",
       "  </thead>\n",
       "  <tbody>\n",
       "    <tr>\n",
       "      <th>0</th>\n",
       "      <td>7lPN2DXiMsVn7XUKtOW1CS</td>\n",
       "    </tr>\n",
       "    <tr>\n",
       "      <th>1</th>\n",
       "      <td>5QO79kh1waicV47BqGRL3g</td>\n",
       "    </tr>\n",
       "    <tr>\n",
       "      <th>2</th>\n",
       "      <td>0VjIjW4GlUZAMYd2vXMi3b</td>\n",
       "    </tr>\n",
       "    <tr>\n",
       "      <th>3</th>\n",
       "      <td>4MzXwWMhyBbmu6hOcLVD49</td>\n",
       "    </tr>\n",
       "    <tr>\n",
       "      <th>4</th>\n",
       "      <td>5Kskr9LcNYa0tpt5f0ZEJx</td>\n",
       "    </tr>\n",
       "    <tr>\n",
       "      <th>...</th>\n",
       "      <td>...</td>\n",
       "    </tr>\n",
       "    <tr>\n",
       "      <th>1157</th>\n",
       "      <td>4lUmnwRybYH7mMzf16xB0y</td>\n",
       "    </tr>\n",
       "    <tr>\n",
       "      <th>1158</th>\n",
       "      <td>1fzf9Aad4y1RWrmwosAK5y</td>\n",
       "    </tr>\n",
       "    <tr>\n",
       "      <th>1159</th>\n",
       "      <td>3E3pb3qH11iny6TFDJvsg5</td>\n",
       "    </tr>\n",
       "    <tr>\n",
       "      <th>1160</th>\n",
       "      <td>3yTkoTuiKRGL2VAlQd7xsC</td>\n",
       "    </tr>\n",
       "    <tr>\n",
       "      <th>1161</th>\n",
       "      <td>4JE6agBLHGA5TaF6FlqfBD</td>\n",
       "    </tr>\n",
       "  </tbody>\n",
       "</table>\n",
       "<p>1162 rows × 1 columns</p>\n",
       "</div>"
      ],
      "text/plain": [
       "                     song_id\n",
       "0     7lPN2DXiMsVn7XUKtOW1CS\n",
       "1     5QO79kh1waicV47BqGRL3g\n",
       "2     0VjIjW4GlUZAMYd2vXMi3b\n",
       "3     4MzXwWMhyBbmu6hOcLVD49\n",
       "4     5Kskr9LcNYa0tpt5f0ZEJx\n",
       "...                      ...\n",
       "1157  4lUmnwRybYH7mMzf16xB0y\n",
       "1158  1fzf9Aad4y1RWrmwosAK5y\n",
       "1159  3E3pb3qH11iny6TFDJvsg5\n",
       "1160  3yTkoTuiKRGL2VAlQd7xsC\n",
       "1161  4JE6agBLHGA5TaF6FlqfBD\n",
       "\n",
       "[1162 rows x 1 columns]"
      ]
     },
     "execution_count": 9,
     "metadata": {},
     "output_type": "execute_result"
    }
   ],
   "source": [
    "test_data_tracks_ids = pd.read_csv(\"./data/spotify_ids.txt\",names=['song_id'])\n",
    "test_data_tracks_ids"
   ]
  },
  {
   "cell_type": "code",
   "execution_count": 10,
   "id": "c0e870ef",
   "metadata": {},
   "outputs": [
    {
     "name": "stdout",
     "output_type": "stream",
     "text": [
      "Getting from 0 to 83...\n",
      "Getting from 83 to 166...\n",
      "Getting from 166 to 249...\n",
      "Getting from 249 to 332...\n",
      "Getting from 332 to 415...\n",
      "Getting from 415 to 498...\n",
      "Getting from 498 to 581...\n",
      "Getting from 581 to 664...\n",
      "Getting from 664 to 747...\n",
      "Getting from 747 to 830...\n",
      "Getting from 830 to 913...\n",
      "Getting from 913 to 996...\n",
      "Getting from 996 to 1079...\n",
      "Getting from 1079 to 1162...\n",
      "Features from 1162 tracks are downloaded\n"
     ]
    }
   ],
   "source": [
    "test_tracks_features = {}\n",
    "start = 0 \n",
    "num_tracks = len(test_data_tracks_ids)//14 # 1162 / 14 = 83 tracks per batch\n",
    "while start < len(test_data_tracks_ids):\n",
    "    print(f\"Getting from {start} to {start+num_tracks}...\")\n",
    "    tracks_batch = test_data_tracks_ids['song_id'].iloc()[start:start+num_tracks]\n",
    "    features_batch = sp.audio_features(tracks_batch)\n",
    "    test_tracks_features.update({track_id : track_features\n",
    "                               for track_id,track_features in zip(tracks_batch,features_batch)})\n",
    "    start+=num_tracks\n",
    "    \n",
    "print(f\"Features from {len(test_tracks_features)} tracks are downloaded\")"
   ]
  },
  {
   "cell_type": "code",
   "execution_count": 11,
   "id": "dcb94155",
   "metadata": {},
   "outputs": [
    {
     "data": {
      "text/html": [
       "<div>\n",
       "<style scoped>\n",
       "    .dataframe tbody tr th:only-of-type {\n",
       "        vertical-align: middle;\n",
       "    }\n",
       "\n",
       "    .dataframe tbody tr th {\n",
       "        vertical-align: top;\n",
       "    }\n",
       "\n",
       "    .dataframe thead th {\n",
       "        text-align: right;\n",
       "    }\n",
       "</style>\n",
       "<table border=\"1\" class=\"dataframe\">\n",
       "  <thead>\n",
       "    <tr style=\"text-align: right;\">\n",
       "      <th></th>\n",
       "      <th>danceability</th>\n",
       "      <th>energy</th>\n",
       "      <th>key</th>\n",
       "      <th>loudness</th>\n",
       "      <th>mode</th>\n",
       "      <th>speechiness</th>\n",
       "      <th>acousticness</th>\n",
       "      <th>instrumentalness</th>\n",
       "      <th>liveness</th>\n",
       "      <th>valence</th>\n",
       "      <th>tempo</th>\n",
       "      <th>song_id</th>\n",
       "      <th>duration_ms</th>\n",
       "      <th>time_signature</th>\n",
       "    </tr>\n",
       "  </thead>\n",
       "  <tbody>\n",
       "    <tr>\n",
       "      <th>0</th>\n",
       "      <td>0.585</td>\n",
       "      <td>0.436</td>\n",
       "      <td>10</td>\n",
       "      <td>-8.761</td>\n",
       "      <td>1</td>\n",
       "      <td>0.0601</td>\n",
       "      <td>0.72100</td>\n",
       "      <td>0.000013</td>\n",
       "      <td>0.1050</td>\n",
       "      <td>0.132</td>\n",
       "      <td>143.874</td>\n",
       "      <td>7lPN2DXiMsVn7XUKtOW1CS</td>\n",
       "      <td>242014</td>\n",
       "      <td>4</td>\n",
       "    </tr>\n",
       "    <tr>\n",
       "      <th>1</th>\n",
       "      <td>0.680</td>\n",
       "      <td>0.826</td>\n",
       "      <td>0</td>\n",
       "      <td>-5.487</td>\n",
       "      <td>1</td>\n",
       "      <td>0.0309</td>\n",
       "      <td>0.02120</td>\n",
       "      <td>0.000012</td>\n",
       "      <td>0.5430</td>\n",
       "      <td>0.644</td>\n",
       "      <td>118.051</td>\n",
       "      <td>5QO79kh1waicV47BqGRL3g</td>\n",
       "      <td>215627</td>\n",
       "      <td>4</td>\n",
       "    </tr>\n",
       "    <tr>\n",
       "      <th>2</th>\n",
       "      <td>0.514</td>\n",
       "      <td>0.730</td>\n",
       "      <td>1</td>\n",
       "      <td>-5.934</td>\n",
       "      <td>1</td>\n",
       "      <td>0.0598</td>\n",
       "      <td>0.00146</td>\n",
       "      <td>0.000095</td>\n",
       "      <td>0.0897</td>\n",
       "      <td>0.334</td>\n",
       "      <td>171.005</td>\n",
       "      <td>0VjIjW4GlUZAMYd2vXMi3b</td>\n",
       "      <td>200040</td>\n",
       "      <td>4</td>\n",
       "    </tr>\n",
       "    <tr>\n",
       "      <th>3</th>\n",
       "      <td>0.731</td>\n",
       "      <td>0.573</td>\n",
       "      <td>4</td>\n",
       "      <td>-10.059</td>\n",
       "      <td>0</td>\n",
       "      <td>0.0544</td>\n",
       "      <td>0.40100</td>\n",
       "      <td>0.000052</td>\n",
       "      <td>0.1130</td>\n",
       "      <td>0.145</td>\n",
       "      <td>109.928</td>\n",
       "      <td>4MzXwWMhyBbmu6hOcLVD49</td>\n",
       "      <td>205090</td>\n",
       "      <td>4</td>\n",
       "    </tr>\n",
       "    <tr>\n",
       "      <th>4</th>\n",
       "      <td>0.907</td>\n",
       "      <td>0.393</td>\n",
       "      <td>4</td>\n",
       "      <td>-7.636</td>\n",
       "      <td>0</td>\n",
       "      <td>0.0539</td>\n",
       "      <td>0.45100</td>\n",
       "      <td>0.000001</td>\n",
       "      <td>0.1350</td>\n",
       "      <td>0.202</td>\n",
       "      <td>104.949</td>\n",
       "      <td>5Kskr9LcNYa0tpt5f0ZEJx</td>\n",
       "      <td>205458</td>\n",
       "      <td>4</td>\n",
       "    </tr>\n",
       "    <tr>\n",
       "      <th>...</th>\n",
       "      <td>...</td>\n",
       "      <td>...</td>\n",
       "      <td>...</td>\n",
       "      <td>...</td>\n",
       "      <td>...</td>\n",
       "      <td>...</td>\n",
       "      <td>...</td>\n",
       "      <td>...</td>\n",
       "      <td>...</td>\n",
       "      <td>...</td>\n",
       "      <td>...</td>\n",
       "      <td>...</td>\n",
       "      <td>...</td>\n",
       "      <td>...</td>\n",
       "    </tr>\n",
       "    <tr>\n",
       "      <th>1157</th>\n",
       "      <td>0.596</td>\n",
       "      <td>0.650</td>\n",
       "      <td>9</td>\n",
       "      <td>-5.167</td>\n",
       "      <td>1</td>\n",
       "      <td>0.3370</td>\n",
       "      <td>0.13800</td>\n",
       "      <td>0.000000</td>\n",
       "      <td>0.1400</td>\n",
       "      <td>0.188</td>\n",
       "      <td>133.997</td>\n",
       "      <td>4lUmnwRybYH7mMzf16xB0y</td>\n",
       "      <td>257428</td>\n",
       "      <td>4</td>\n",
       "    </tr>\n",
       "    <tr>\n",
       "      <th>1158</th>\n",
       "      <td>0.588</td>\n",
       "      <td>0.850</td>\n",
       "      <td>4</td>\n",
       "      <td>-6.431</td>\n",
       "      <td>1</td>\n",
       "      <td>0.0318</td>\n",
       "      <td>0.16800</td>\n",
       "      <td>0.002020</td>\n",
       "      <td>0.0465</td>\n",
       "      <td>0.768</td>\n",
       "      <td>93.003</td>\n",
       "      <td>1fzf9Aad4y1RWrmwosAK5y</td>\n",
       "      <td>187310</td>\n",
       "      <td>4</td>\n",
       "    </tr>\n",
       "    <tr>\n",
       "      <th>1159</th>\n",
       "      <td>0.754</td>\n",
       "      <td>0.660</td>\n",
       "      <td>0</td>\n",
       "      <td>-6.811</td>\n",
       "      <td>1</td>\n",
       "      <td>0.2670</td>\n",
       "      <td>0.17900</td>\n",
       "      <td>0.000000</td>\n",
       "      <td>0.1940</td>\n",
       "      <td>0.316</td>\n",
       "      <td>83.000</td>\n",
       "      <td>3E3pb3qH11iny6TFDJvsg5</td>\n",
       "      <td>209299</td>\n",
       "      <td>4</td>\n",
       "    </tr>\n",
       "    <tr>\n",
       "      <th>1160</th>\n",
       "      <td>0.584</td>\n",
       "      <td>0.836</td>\n",
       "      <td>0</td>\n",
       "      <td>-4.925</td>\n",
       "      <td>1</td>\n",
       "      <td>0.0790</td>\n",
       "      <td>0.05580</td>\n",
       "      <td>0.000000</td>\n",
       "      <td>0.0663</td>\n",
       "      <td>0.484</td>\n",
       "      <td>104.973</td>\n",
       "      <td>3yTkoTuiKRGL2VAlQd7xsC</td>\n",
       "      <td>202204</td>\n",
       "      <td>4</td>\n",
       "    </tr>\n",
       "    <tr>\n",
       "      <th>1161</th>\n",
       "      <td>0.331</td>\n",
       "      <td>0.450</td>\n",
       "      <td>10</td>\n",
       "      <td>-5.362</td>\n",
       "      <td>1</td>\n",
       "      <td>0.0340</td>\n",
       "      <td>0.36500</td>\n",
       "      <td>0.004640</td>\n",
       "      <td>0.2200</td>\n",
       "      <td>0.180</td>\n",
       "      <td>123.829</td>\n",
       "      <td>4JE6agBLHGA5TaF6FlqfBD</td>\n",
       "      <td>218755</td>\n",
       "      <td>4</td>\n",
       "    </tr>\n",
       "  </tbody>\n",
       "</table>\n",
       "<p>1162 rows × 14 columns</p>\n",
       "</div>"
      ],
      "text/plain": [
       "      danceability  energy  key  loudness  mode  speechiness  acousticness  \\\n",
       "0            0.585   0.436   10    -8.761     1       0.0601       0.72100   \n",
       "1            0.680   0.826    0    -5.487     1       0.0309       0.02120   \n",
       "2            0.514   0.730    1    -5.934     1       0.0598       0.00146   \n",
       "3            0.731   0.573    4   -10.059     0       0.0544       0.40100   \n",
       "4            0.907   0.393    4    -7.636     0       0.0539       0.45100   \n",
       "...            ...     ...  ...       ...   ...          ...           ...   \n",
       "1157         0.596   0.650    9    -5.167     1       0.3370       0.13800   \n",
       "1158         0.588   0.850    4    -6.431     1       0.0318       0.16800   \n",
       "1159         0.754   0.660    0    -6.811     1       0.2670       0.17900   \n",
       "1160         0.584   0.836    0    -4.925     1       0.0790       0.05580   \n",
       "1161         0.331   0.450   10    -5.362     1       0.0340       0.36500   \n",
       "\n",
       "      instrumentalness  liveness  valence    tempo                 song_id  \\\n",
       "0             0.000013    0.1050    0.132  143.874  7lPN2DXiMsVn7XUKtOW1CS   \n",
       "1             0.000012    0.5430    0.644  118.051  5QO79kh1waicV47BqGRL3g   \n",
       "2             0.000095    0.0897    0.334  171.005  0VjIjW4GlUZAMYd2vXMi3b   \n",
       "3             0.000052    0.1130    0.145  109.928  4MzXwWMhyBbmu6hOcLVD49   \n",
       "4             0.000001    0.1350    0.202  104.949  5Kskr9LcNYa0tpt5f0ZEJx   \n",
       "...                ...       ...      ...      ...                     ...   \n",
       "1157          0.000000    0.1400    0.188  133.997  4lUmnwRybYH7mMzf16xB0y   \n",
       "1158          0.002020    0.0465    0.768   93.003  1fzf9Aad4y1RWrmwosAK5y   \n",
       "1159          0.000000    0.1940    0.316   83.000  3E3pb3qH11iny6TFDJvsg5   \n",
       "1160          0.000000    0.0663    0.484  104.973  3yTkoTuiKRGL2VAlQd7xsC   \n",
       "1161          0.004640    0.2200    0.180  123.829  4JE6agBLHGA5TaF6FlqfBD   \n",
       "\n",
       "      duration_ms  time_signature  \n",
       "0          242014               4  \n",
       "1          215627               4  \n",
       "2          200040               4  \n",
       "3          205090               4  \n",
       "4          205458               4  \n",
       "...           ...             ...  \n",
       "1157       257428               4  \n",
       "1158       187310               4  \n",
       "1159       209299               4  \n",
       "1160       202204               4  \n",
       "1161       218755               4  \n",
       "\n",
       "[1162 rows x 14 columns]"
      ]
     },
     "execution_count": 11,
     "metadata": {},
     "output_type": "execute_result"
    }
   ],
   "source": [
    "test_tracks = pd.DataFrame.from_dict(test_tracks_features,orient='index')\n",
    "test_tracks = test_tracks.reset_index(drop=True).rename(columns={'id': 'song_id'})\n",
    "test_tracks = test_tracks.drop(columns=['type','uri','track_href',\"analysis_url\"])\n",
    "test_tracks"
   ]
  },
  {
   "cell_type": "code",
   "execution_count": null,
   "id": "11c1be21",
   "metadata": {},
   "outputs": [],
   "source": []
  },
  {
   "cell_type": "code",
   "execution_count": null,
   "id": "7980da33",
   "metadata": {},
   "outputs": [],
   "source": []
  },
  {
   "cell_type": "code",
   "execution_count": 12,
   "id": "7df865d8",
   "metadata": {
    "scrolled": false
   },
   "outputs": [
    {
     "data": {
      "text/plain": [
       "<AxesSubplot:>"
      ]
     },
     "execution_count": 12,
     "metadata": {},
     "output_type": "execute_result"
    },
    {
     "data": {
      "image/png": "[encoded data removed]",
      "text/plain": [
       "<Figure size 864x720 with 2 Axes>"
      ]
     },
     "metadata": {
      "needs_background": "light"
     },
     "output_type": "display_data"
    }
   ],
   "source": [
    "plt.figure(figsize=(12,10))\n",
    "sns.heatmap(tracks.corr(),cmap='rocket_r')"
   ]
  },
  {
   "cell_type": "markdown",
   "id": "3319794c",
   "metadata": {},
   "source": [
    "# MACHINE LEARNING "
   ]
  },
  {
   "cell_type": "markdown",
   "id": "e878b1b0",
   "metadata": {},
   "source": [
    "## 1. LINEAR REGRESSION"
   ]
  },
  {
   "cell_type": "code",
   "execution_count": 43,
   "id": "432306b8",
   "metadata": {},
   "outputs": [],
   "source": [
    "from sklearn.linear_model import LinearRegression\n",
    "from sklearn.metrics import mean_absolute_error\n",
    "from sklearn.model_selection import train_test_split\n",
    "from sklearn.preprocessing import StandardScaler"
   ]
  },
  {
   "cell_type": "code",
   "execution_count": null,
   "id": "a9bbc28f",
   "metadata": {},
   "outputs": [],
   "source": [
    "\n"
   ]
  },
  {
   "cell_type": "code",
   "execution_count": null,
   "id": "1b16b070",
   "metadata": {},
   "outputs": [],
   "source": []
  },
  {
   "cell_type": "code",
   "execution_count": 14,
   "id": "dc5af080",
   "metadata": {},
   "outputs": [],
   "source": [
    "model = LinearRegression()\n",
    "scaler = StandardScaler()\n",
    "x_train,x_test,y_train,y_test = train_test_split(tracks.drop(columns=['valence','song_id']),\n",
    "                                                 tracks['valence'],test_size=.2)\n",
    "scaler.fit(x_train)\n",
    "x_train_scaled = scaler.transform(x_train)\n",
    "x_test_scaled = scaler.transform(x_test) \n"
   ]
  },
  {
   "cell_type": "code",
   "execution_count": 15,
   "id": "f44b5942",
   "metadata": {},
   "outputs": [
    {
     "data": {
      "text/plain": [
       "LinearRegression()"
      ]
     },
     "execution_count": 15,
     "metadata": {},
     "output_type": "execute_result"
    }
   ],
   "source": [
    "model.fit(x_train_scaled,y_train)"
   ]
  },
  {
   "cell_type": "code",
   "execution_count": 16,
   "id": "584d6841",
   "metadata": {},
   "outputs": [],
   "source": [
    "predicted = model.predict(x_test_scaled)"
   ]
  },
  {
   "cell_type": "code",
   "execution_count": 17,
   "id": "0250b987",
   "metadata": {},
   "outputs": [
    {
     "name": "stdout",
     "output_type": "stream",
     "text": [
      "Mean absolute error is : 0.1525165770424343\n"
     ]
    }
   ],
   "source": [
    "LR_mean_absolute_error = mean_absolute_error(y_test,predicted)\n",
    "print(f\"Mean absolute error is : {LR_mean_absolute_error}\")"
   ]
  },
  {
   "cell_type": "code",
   "execution_count": 18,
   "id": "39e34dbb",
   "metadata": {},
   "outputs": [],
   "source": [
    "#Now train the model with all the data\n",
    "#Test it with new unknown data to predict the valence"
   ]
  },
  {
   "cell_type": "code",
   "execution_count": 20,
   "id": "a4cf94f0",
   "metadata": {},
   "outputs": [],
   "source": [
    "test_new_data = test_tracks.drop(columns=['valence','song_id'])"
   ]
  },
  {
   "cell_type": "code",
   "execution_count": null,
   "id": "58595ae3",
   "metadata": {},
   "outputs": [],
   "source": []
  },
  {
   "cell_type": "code",
   "execution_count": 21,
   "id": "7c8ac513",
   "metadata": {},
   "outputs": [],
   "source": [
    "x_train = scaler.fit_transform(tracks.drop(columns=['valence','song_id']))\n",
    "y_train = tracks['valence']\n",
    "model.fit(x_train,y_train)\n",
    "test_new_data_scaled = scaler.transform(test_new_data)"
   ]
  },
  {
   "cell_type": "code",
   "execution_count": 22,
   "id": "571af7e7",
   "metadata": {},
   "outputs": [
    {
     "name": "stdout",
     "output_type": "stream",
     "text": [
      "Mean absolute error for the new tracks is : 0.1604252609772511\n"
     ]
    }
   ],
   "source": [
    "LR_test_predicted = model.predict(test_new_data_scaled)\n",
    "LR_mean_absolute_error = mean_absolute_error(np.array(test_tracks['valence']),LR_test_predicted)\n",
    "print(f\"Mean absolute error for the new tracks is : {LR_mean_absolute_error}\")"
   ]
  },
  {
   "cell_type": "code",
   "execution_count": 23,
   "id": "24969320",
   "metadata": {},
   "outputs": [],
   "source": [
    "results.update({\"Linear Regression\" : LR_mean_absolute_error})"
   ]
  },
  {
   "cell_type": "code",
   "execution_count": null,
   "id": "86aeb0c3",
   "metadata": {},
   "outputs": [],
   "source": []
  },
  {
   "cell_type": "markdown",
   "id": "2184b084",
   "metadata": {},
   "source": [
    "## 2. RANDOM FOREST"
   ]
  },
  {
   "cell_type": "code",
   "execution_count": 24,
   "id": "72e3ad9b",
   "metadata": {},
   "outputs": [],
   "source": [
    "from sklearn.tree import DecisionTreeRegressor\n",
    "from sklearn.ensemble import BaggingRegressor\n",
    "from sklearn.ensemble import RandomForestRegressor\n",
    "from sklearn.ensemble import ExtraTreesRegressor\n",
    "from sklearn.ensemble import AdaBoostRegressor\n",
    "from xgboost import XGBRegressor\n",
    "from lightgbm import LGBMRegressor\n",
    "from sklearn.model_selection import cross_val_score\n",
    "from sklearn.model_selection import KFold\n",
    "from sklearn.model_selection import GridSearchCV\n",
    "from sklearn.ensemble import VotingRegressor, StackingRegressor"
   ]
  },
  {
   "cell_type": "markdown",
   "id": "3da58fa5",
   "metadata": {},
   "source": [
    "### DECISION TREE"
   ]
  },
  {
   "cell_type": "code",
   "execution_count": 342,
   "id": "587b591d",
   "metadata": {},
   "outputs": [
    {
     "name": "stdout",
     "output_type": "stream",
     "text": [
      "DecisionTreeRegressor(max_depth=6)\n"
     ]
    }
   ],
   "source": [
    "parameters = [\n",
    "    {\"max_depth\":list(range(1,11))}\n",
    "]\n",
    "regressor = GridSearchCV(DecisionTreeRegressor(),parameters,cv=KFold(n_splits=5,shuffle=True))\n",
    "regressor.fit(tracks.drop(columns=[\"valence\",\"song_id\"]),tracks['valence'])\n",
    "print(regressor.best_estimator_)"
   ]
  },
  {
   "cell_type": "code",
   "execution_count": 341,
   "id": "8e423c1f",
   "metadata": {},
   "outputs": [
    {
     "data": {
      "text/plain": [
       "6"
      ]
     },
     "execution_count": 341,
     "metadata": {},
     "output_type": "execute_result"
    }
   ],
   "source": []
  },
  {
   "cell_type": "code",
   "execution_count": 343,
   "id": "29c4f51a",
   "metadata": {},
   "outputs": [
    {
     "name": "stdout",
     "output_type": "stream",
     "text": [
      "Decision Tree Regressor ------ > Mean absolute error is : 0.15616750203664023\n"
     ]
    }
   ],
   "source": [
    "reg_tree = DecisionTreeRegressor(max_depth=regressor.best_params_.get(\"max_depth\"))\n",
    "cv_scores = cross_val_score(reg_tree,\n",
    "                            tracks.drop(columns=[\"valence\",\"song_id\"]),\n",
    "                            tracks['valence'],\n",
    "                            cv=KFold(n_splits=5,shuffle=True),\n",
    "                            scoring=\"neg_mean_absolute_error\",\n",
    "                            n_jobs=-1)\n",
    "print(f\"Decision Tree Regressor ------ > Mean absolute error is : {-cv_scores.mean()}\")\n",
    "#reg_tree.fit(tracks.drop(columns=[\"valence\",\"song_id\"]),tracks['valence'])"
   ]
  },
  {
   "cell_type": "markdown",
   "id": "5945185b",
   "metadata": {},
   "source": [
    "### BAGGING REGRESSOR"
   ]
  },
  {
   "cell_type": "code",
   "execution_count": 28,
   "id": "2c1c789a",
   "metadata": {},
   "outputs": [
    {
     "name": "stdout",
     "output_type": "stream",
     "text": [
      "Bagging Regressor ------ > Mean absolute error is : 0.1321584959070948\n"
     ]
    }
   ],
   "source": [
    "bagging_reg_tree = BaggingRegressor(DecisionTreeRegressor(),n_estimators=50,n_jobs=-1)\n",
    "bagged_cv_scores = cross_val_score(bagging_reg_tree,\n",
    "                                   tracks.drop(columns=[\"valence\",\"song_id\"]),\n",
    "                                   tracks['valence'],\n",
    "                                   cv=KFold(n_splits=5,shuffle=True),\n",
    "                                   scoring=\"neg_mean_absolute_error\",\n",
    "                                   n_jobs=-1)\n",
    "print(f\"Bagging Regressor ------ > Mean absolute error is : {-bagged_cv_scores.mean()}\")"
   ]
  },
  {
   "cell_type": "markdown",
   "id": "6214f927",
   "metadata": {},
   "source": [
    "### RANDOM FOREST"
   ]
  },
  {
   "cell_type": "code",
   "execution_count": 29,
   "id": "9b282d25",
   "metadata": {},
   "outputs": [
    {
     "name": "stdout",
     "output_type": "stream",
     "text": [
      "Random Forest Regressor ------ > Mean absolute error is : 0.13219572917867434\n"
     ]
    }
   ],
   "source": [
    "random_reg_forest = RandomForestRegressor(n_estimators=50,n_jobs=-1)\n",
    "random_forest_cv_scores = cross_val_score(random_reg_forest,\n",
    "                                   tracks.drop(columns=[\"valence\",\"song_id\"]),\n",
    "                                   tracks['valence'],\n",
    "                                   cv=KFold(n_splits=5,shuffle=True),\n",
    "                                   scoring=\"neg_mean_absolute_error\",\n",
    "                                   n_jobs=-1)\n",
    "print(f\"Random Forest Regressor ------ > Mean absolute error is : {-random_forest_cv_scores.mean()}\")"
   ]
  },
  {
   "cell_type": "markdown",
   "id": "37608b50",
   "metadata": {},
   "source": [
    "### EXTRA RANDOM FOREST"
   ]
  },
  {
   "cell_type": "code",
   "execution_count": 30,
   "id": "8fe80a7e",
   "metadata": {},
   "outputs": [
    {
     "name": "stdout",
     "output_type": "stream",
     "text": [
      "Extra Random Forest Regressor ------ > Mean absolute error is : 0.12342729625360234\n"
     ]
    }
   ],
   "source": [
    "extra_random_reg_forest = ExtraTreesRegressor(n_estimators=50, n_jobs= -1)\n",
    "extra_forest_cv_scores =  cross_val_score(extra_random_reg_forest,\n",
    "                                   tracks.drop(columns=[\"valence\",\"song_id\"]),\n",
    "                                   tracks['valence'],\n",
    "                                   cv=KFold(n_splits=5,shuffle=True),\n",
    "                                   scoring=\"neg_mean_absolute_error\",\n",
    "                                   n_jobs=-1)\n",
    "print(f\"Extra Random Forest Regressor ------ > Mean absolute error is : {-extra_forest_cv_scores.mean()}\")"
   ]
  },
  {
   "cell_type": "markdown",
   "id": "1cef3eb3",
   "metadata": {},
   "source": [
    "### ADA BOOST "
   ]
  },
  {
   "cell_type": "code",
   "execution_count": 31,
   "id": "7e76bc67",
   "metadata": {},
   "outputs": [
    {
     "name": "stdout",
     "output_type": "stream",
     "text": [
      "Ada Boost Regressor ------ > Mean absolute error is : 0.12232443083573485\n"
     ]
    }
   ],
   "source": [
    "ada_boost_regressor = AdaBoostRegressor(DecisionTreeRegressor(),n_estimators=50)\n",
    "ada_boost_cv_scores =  cross_val_score(ada_boost_regressor,\n",
    "                                   tracks.drop(columns=[\"valence\",\"song_id\"]),\n",
    "                                   tracks['valence'],\n",
    "                                   cv=KFold(n_splits=5,shuffle=True),\n",
    "                                   scoring=\"neg_mean_absolute_error\",\n",
    "                                   n_jobs=-1)\n",
    "print(f\"Ada Boost Regressor ------ > Mean absolute error is : {-ada_boost_cv_scores.mean()}\")"
   ]
  },
  {
   "cell_type": "markdown",
   "id": "fb077381",
   "metadata": {},
   "source": [
    "### XGB "
   ]
  },
  {
   "cell_type": "code",
   "execution_count": 32,
   "id": "8f83207c",
   "metadata": {},
   "outputs": [
    {
     "name": "stdout",
     "output_type": "stream",
     "text": [
      "XGBoost Regressor ------ > Mean absolute error is : 0.139935278575753\n"
     ]
    }
   ],
   "source": [
    "xgb_regressor = XGBRegressor()\n",
    "xgb_cv_scores = cross_val_score(xgb_regressor,\n",
    "                                   tracks.drop(columns=[\"valence\",\"song_id\"]),\n",
    "                                   tracks['valence'],\n",
    "                                   cv=KFold(n_splits=5,shuffle=True),\n",
    "                                   scoring=\"neg_mean_absolute_error\",\n",
    "                                   n_jobs=-1)\n",
    "print(f\"XGBoost Regressor ------ > Mean absolute error is : {-xgb_cv_scores.mean()}\")"
   ]
  },
  {
   "cell_type": "markdown",
   "id": "2a8c6332",
   "metadata": {},
   "source": [
    "### LIGHTGBM"
   ]
  },
  {
   "cell_type": "code",
   "execution_count": 33,
   "id": "69dd7ce4",
   "metadata": {},
   "outputs": [
    {
     "name": "stdout",
     "output_type": "stream",
     "text": [
      "LGBM Regressor ------ > Mean absolute error is : 0.14057869101564544\n"
     ]
    }
   ],
   "source": [
    "lgbm_regressor = LGBMRegressor()\n",
    "lgbm_cv_scores = cross_val_score(lgbm_regressor,\n",
    "                                   tracks.drop(columns=[\"valence\",\"song_id\"]),\n",
    "                                   tracks['valence'],\n",
    "                                   cv=KFold(n_splits=5,shuffle=True),\n",
    "                                   scoring=\"neg_mean_absolute_error\",\n",
    "                                   n_jobs=-1)\n",
    "print(f\"LGBM Regressor ------ > Mean absolute error is : {-lgbm_cv_scores.mean()}\")"
   ]
  },
  {
   "cell_type": "markdown",
   "id": "3143ce32",
   "metadata": {},
   "source": [
    "### VOTING REGRESSOR"
   ]
  },
  {
   "cell_type": "code",
   "execution_count": 34,
   "id": "54dd77b4",
   "metadata": {},
   "outputs": [
    {
     "name": "stdout",
     "output_type": "stream",
     "text": [
      "Voting Regressor ------ > Mean absolute error is : 0.12143559495677234\n"
     ]
    }
   ],
   "source": [
    "ada_boost = AdaBoostRegressor(DecisionTreeRegressor(),n_estimators=50)\n",
    "extra_forest = ExtraTreesRegressor(n_estimators=50,n_jobs=-1)\n",
    "vreg = VotingRegressor(estimators=[(\"ada\",ada_boost),\n",
    "                                  (\"extra\",extra_forest)],n_jobs=-1)\n",
    "voting_cv_scores = cross_val_score(vreg,\n",
    "                                   tracks.drop(columns=[\"valence\",\"song_id\"]),\n",
    "                                   tracks[\"valence\"],\n",
    "                                   cv=KFold(n_splits=5,shuffle=True),\n",
    "                                   scoring=\"neg_mean_absolute_error\",\n",
    "                                   n_jobs=-1)\n",
    "print(f\"Voting Regressor ------ > Mean absolute error is : {-voting_cv_scores.mean()}\")"
   ]
  },
  {
   "cell_type": "markdown",
   "id": "bb9fd3d8",
   "metadata": {},
   "source": [
    "### STACKING REGRESSOR"
   ]
  },
  {
   "cell_type": "code",
   "execution_count": 35,
   "id": "8227bac9",
   "metadata": {},
   "outputs": [
    {
     "name": "stdout",
     "output_type": "stream",
     "text": [
      "Stacking Regressor ------ > Mean absolute error is : 0.12309477466517882\n"
     ]
    }
   ],
   "source": [
    "ada_boost = AdaBoostRegressor(DecisionTreeRegressor(),n_estimators=50)\n",
    "extra_forest = ExtraTreesRegressor(n_estimators=50,n_jobs=-1)\n",
    "estimators=[(\"ada\",ada_boost),(\"extra\",extra_forest)]\n",
    "final_estimator = LinearRegression()\n",
    "sreg = StackingRegressor(estimators=estimators,final_estimator=final_estimator,n_jobs=-1)\n",
    "stacking_cv_scores = cross_val_score(sreg,\n",
    "                                     tracks.drop(columns=[\"valence\",\"song_id\"]),\n",
    "                                     tracks[\"valence\"],\n",
    "                                     cv=KFold(n_splits=5,shuffle=True),\n",
    "                                     scoring=\"neg_mean_absolute_error\",\n",
    "                                     n_jobs=-1)\n",
    "print(f\"Stacking Regressor ------ > Mean absolute error is : {-stacking_cv_scores.mean()}\")"
   ]
  },
  {
   "cell_type": "code",
   "execution_count": null,
   "id": "5f93e6ba",
   "metadata": {},
   "outputs": [],
   "source": []
  },
  {
   "cell_type": "code",
   "execution_count": 36,
   "id": "b1b6df58",
   "metadata": {},
   "outputs": [
    {
     "name": "stdout",
     "output_type": "stream",
     "text": [
      "Mean absolute error for the new tracks is : 0.13156026764199658\n"
     ]
    }
   ],
   "source": [
    "vreg.fit(tracks.drop(columns=[\"valence\",\"song_id\"]),tracks[\"valence\"])\n",
    "vreg_predicted = vreg.predict(test_new_data)\n",
    "forest_mean_absolute_error = mean_absolute_error(test_tracks[\"valence\"],vreg_predicted)\n",
    "print(f\"Mean absolute error for the new tracks is : {forest_mean_absolute_error}\")"
   ]
  },
  {
   "cell_type": "code",
   "execution_count": 37,
   "id": "ead13332",
   "metadata": {},
   "outputs": [],
   "source": [
    "results.update({\"Random Forest\" : forest_mean_absolute_error})"
   ]
  },
  {
   "cell_type": "markdown",
   "id": "1658f21b",
   "metadata": {},
   "source": [
    "## 3.SUPPORT VECTOR MACHINE"
   ]
  },
  {
   "cell_type": "code",
   "execution_count": 38,
   "id": "afa58d92",
   "metadata": {},
   "outputs": [
    {
     "data": {
      "text/plain": [
       "GridSearchCV(estimator=SVR(), n_jobs=-1,\n",
       "             param_grid=[{'C': [1, 10, 50, 100, 100],\n",
       "                          'gamma': [0.1, 0.01, 0.001, 0.0001],\n",
       "                          'kernel': ['rbf']}])"
      ]
     },
     "execution_count": 38,
     "metadata": {},
     "output_type": "execute_result"
    }
   ],
   "source": [
    "from sklearn.svm import SVR\n",
    "from sklearn.model_selection import GridSearchCV\n",
    "\n",
    "\n",
    "x_train,x_test,y_train,y_test = train_test_split(tracks.drop(columns=[\"valence\",\"song_id\"]),\n",
    "                                                 tracks[\"valence\"],\n",
    "                                                 test_size=.2)\n",
    "param_grid = [\n",
    "    {\n",
    "        \"kernel\" : [\"rbf\"],\n",
    "        \"gamma\" : [1e-1,1e-2,1e-3,1e-4],\n",
    "        \"C\" : [1,10,50,100,100]\n",
    "    }\n",
    "]\n",
    "\n",
    "\n",
    "svreg = SVR()\n",
    "scaler = StandardScaler()\n",
    "scaler.fit(x_train)\n",
    "x_train_scaled = scaler.transform(x_train)\n",
    "x_test_scaled = scaler.transform(x_test)\n",
    "grid_search = GridSearchCV(svreg,param_grid=param_grid,n_jobs=-1)\n",
    "grid_search.fit(x_train_scaled,y_train)\n",
    "\n"
   ]
  },
  {
   "cell_type": "code",
   "execution_count": 39,
   "id": "88e619e0",
   "metadata": {},
   "outputs": [
    {
     "data": {
      "text/plain": [
       "SVR(C=1, gamma=0.01)"
      ]
     },
     "execution_count": 39,
     "metadata": {},
     "output_type": "execute_result"
    }
   ],
   "source": [
    "grid_search.best_estimator_"
   ]
  },
  {
   "cell_type": "code",
   "execution_count": 44,
   "id": "f4f547df",
   "metadata": {},
   "outputs": [
    {
     "name": "stdout",
     "output_type": "stream",
     "text": [
      "Mean absolute error is : 0.14888853486133816\n"
     ]
    }
   ],
   "source": [
    "svreg = SVR(C=1,gamma=.01)\n",
    "svreg.fit(x_train_scaled,y_train)\n",
    "predicted = svreg.predict(x_test_scaled)\n",
    "sreg_mean_absolute_error = mean_absolute_error(y_test,predicted)\n",
    "print(f\"Mean absolute error is : {sreg_mean_absolute_error}\")"
   ]
  },
  {
   "cell_type": "code",
   "execution_count": null,
   "id": "76ad4712",
   "metadata": {},
   "outputs": [],
   "source": []
  },
  {
   "cell_type": "code",
   "execution_count": 45,
   "id": "fddc2e20",
   "metadata": {},
   "outputs": [
    {
     "name": "stderr",
     "output_type": "stream",
     "text": [
      "/home/pantel/Desktop/Spotify_analysis/Spotify_analysis/lib/python3.8/site-packages/sklearn/base.py:450: UserWarning: X does not have valid feature names, but SVR was fitted with feature names\n",
      "  warnings.warn(\n"
     ]
    },
    {
     "name": "stdout",
     "output_type": "stream",
     "text": [
      "Mean absolute error for the new tracks is : 0.19558341828036105\n"
     ]
    }
   ],
   "source": [
    "svreg = SVR(C=10,gamma=.01)\n",
    "svreg.fit(tracks.drop(columns=[\"valence\",\"song_id\"]),tracks[\"valence\"])\n",
    "svreg_predicted = svreg.predict(test_new_data_scaled)\n",
    "svr_mean_absolute_error = mean_absolute_error(test_tracks[\"valence\"],svreg_predicted)\n",
    "print(f\"Mean absolute error for the new tracks is : {svr_mean_absolute_error}\")"
   ]
  },
  {
   "cell_type": "code",
   "execution_count": null,
   "id": "f3fa489d",
   "metadata": {},
   "outputs": [],
   "source": [
    "\n"
   ]
  },
  {
   "cell_type": "code",
   "execution_count": null,
   "id": "af18ee7a",
   "metadata": {},
   "outputs": [],
   "source": []
  },
  {
   "cell_type": "code",
   "execution_count": null,
   "id": "2e5f631b",
   "metadata": {},
   "outputs": [],
   "source": []
  },
  {
   "cell_type": "code",
   "execution_count": 46,
   "id": "93ceaeae",
   "metadata": {},
   "outputs": [],
   "source": [
    "results.update({\"SVR\" : svr_mean_absolute_error})"
   ]
  },
  {
   "cell_type": "markdown",
   "id": "a6f312da",
   "metadata": {},
   "source": [
    "## 4.KNN"
   ]
  },
  {
   "cell_type": "code",
   "execution_count": 47,
   "id": "894f3264",
   "metadata": {},
   "outputs": [],
   "source": [
    "from sklearn.neighbors import KNeighborsRegressor\n",
    "from sklearn.pipeline import make_pipeline\n"
   ]
  },
  {
   "cell_type": "code",
   "execution_count": 50,
   "id": "7d538d2b",
   "metadata": {},
   "outputs": [],
   "source": [
    "x_train,x_test,y_train,y_test = train_test_split(tracks.drop(columns=[\"valence\",\"song_id\"]),\n",
    "                                                 tracks[\"valence\"],\n",
    "                                                 test_size=.2)\n",
    "scores = {}\n",
    "for i in range(5,30):\n",
    "    knn = make_pipeline(StandardScaler(),KNeighborsRegressor(n_neighbors=i))\n",
    "    knn.fit(x_train,y_train)\n",
    "    predicted = knn.predict(x_test)\n",
    "    score = mean_absolute_error(y_test,predicted)\n",
    "    scores.update({i:score})\n",
    "    \n",
    "    \n",
    "    "
   ]
  },
  {
   "cell_type": "code",
   "execution_count": 351,
   "id": "d053a783",
   "metadata": {},
   "outputs": [
    {
     "data": {
      "text/plain": [
       "[<matplotlib.lines.Line2D at 0x7f496573f0a0>]"
      ]
     },
     "execution_count": 351,
     "metadata": {},
     "output_type": "execute_result"
    },
    {
     "data": {
      "image/png": "[encoded data removed]",
      "text/plain": [
       "<Figure size 864x720 with 1 Axes>"
      ]
     },
     "metadata": {
      "needs_background": "light"
     },
     "output_type": "display_data"
    }
   ],
   "source": [
    "plt.figure(figsize=(12,10))\n",
    "plt.plot(scores.keys(),scores.values(),c=\"r\",marker=\"o\",ls='--')"
   ]
  },
  {
   "cell_type": "code",
   "execution_count": null,
   "id": "49ac0843",
   "metadata": {},
   "outputs": [],
   "source": []
  },
  {
   "cell_type": "code",
   "execution_count": null,
   "id": "813b1fe4",
   "metadata": {},
   "outputs": [],
   "source": []
  },
  {
   "cell_type": "code",
   "execution_count": 335,
   "id": "2bf449e8",
   "metadata": {},
   "outputs": [
    {
     "name": "stdout",
     "output_type": "stream",
     "text": [
      "Mean absolute error for the new tracks is : 0.23224467512908778\n"
     ]
    },
    {
     "name": "stderr",
     "output_type": "stream",
     "text": [
      "/home/pantel/Desktop/Spotify_analysis/Spotify_analysis/lib/python3.8/site-packages/sklearn/base.py:450: UserWarning: X does not have valid feature names, but StandardScaler was fitted with feature names\n",
      "  warnings.warn(\n"
     ]
    }
   ],
   "source": [
    "knn = make_pipeline(StandardScaler(),KNeighborsRegressor(n_neighbors=min(scores,key=scores.get)))\n",
    "knn.fit(tracks.drop(columns=[\"valence\",\"song_id\"]),tracks[\"valence\"])\n",
    "knn_predicted = knn.predict(test_new_data_scaled)\n",
    "knn_mean_absolute_error = mean_absolute_error(test_tracks[\"valence\"],knn_predicted)\n",
    "print(f\"Mean absolute error for the new tracks is : {knn_mean_absolute_error}\")"
   ]
  },
  {
   "cell_type": "code",
   "execution_count": 53,
   "id": "fa868066",
   "metadata": {},
   "outputs": [],
   "source": [
    "results.update({\"KNN\" : knn_mean_absolute_error})"
   ]
  },
  {
   "cell_type": "code",
   "execution_count": 54,
   "id": "8cc59440",
   "metadata": {},
   "outputs": [
    {
     "data": {
      "text/plain": [
       "{'Linear Regression': 0.1604252609772511,\n",
       " 'Random Forest': 0.13156026764199658,\n",
       " 'SVR': 0.19558341828036105,\n",
       " 'KNN': 0.23224467512908778}"
      ]
     },
     "execution_count": 54,
     "metadata": {},
     "output_type": "execute_result"
    }
   ],
   "source": []
  },
  {
   "cell_type": "markdown",
   "id": "7af9d5b6",
   "metadata": {},
   "source": [
    "## 5.NEURAL NETWORK"
   ]
  },
  {
   "cell_type": "code",
   "execution_count": 55,
   "id": "01e89a8f",
   "metadata": {},
   "outputs": [],
   "source": [
    "import tensorflow as tf\n",
    "from tensorflow import keras\n"
   ]
  },
  {
   "cell_type": "code",
   "execution_count": 56,
   "id": "b8835080",
   "metadata": {},
   "outputs": [],
   "source": [
    "x_train,x_test,y_train,y_test = train_test_split(tracks.drop(columns=[\"valence\",\"song_id\"]),\n",
    "                                                 tracks[\"valence\"],\n",
    "                                                 test_size=.2)"
   ]
  },
  {
   "cell_type": "code",
   "execution_count": 322,
   "id": "505fa752",
   "metadata": {},
   "outputs": [],
   "source": [
    "normalizer = keras.layers.Normalization()\n",
    "normalizer.adapt(x_train)\n",
    "\n",
    "\n",
    "\n",
    "\n",
    "model = keras.Sequential([\n",
    "    normalizer,\n",
    "    keras.layers.Dense(300, activation = \"relu\"),\n",
    "    keras.layers.Dropout(.4),\n",
    "    keras.layers.Dense(300, activation = \"relu\"),\n",
    "    keras.layers.Dense(32, activation = \"elu\"),\n",
    "    keras.layers.Dense(1, activation = \"sigmoid\")])"
   ]
  },
  {
   "cell_type": "code",
   "execution_count": 323,
   "id": "8c00d6d2",
   "metadata": {},
   "outputs": [],
   "source": [
    "model.compile(loss=\"mean_absolute_error\",\n",
    "              optimizer = keras.optimizers.Adam(.001),\n",
    "              )"
   ]
  },
  {
   "cell_type": "code",
   "execution_count": 324,
   "id": "96ad2518",
   "metadata": {},
   "outputs": [
    {
     "name": "stdout",
     "output_type": "stream",
     "text": [
      "Model: \"sequential_41\"\n",
      "_________________________________________________________________\n",
      " Layer (type)                Output Shape              Param #   \n",
      "=================================================================\n",
      " normalization_42 (Normaliza  (None, 12)               25        \n",
      " tion)                                                           \n",
      "                                                                 \n",
      " dense_212 (Dense)           (None, 300)               3900      \n",
      "                                                                 \n",
      " dropout_83 (Dropout)        (None, 300)               0         \n",
      "                                                                 \n",
      " dense_213 (Dense)           (None, 300)               90300     \n",
      "                                                                 \n",
      " dense_214 (Dense)           (None, 32)                9632      \n",
      "                                                                 \n",
      " dense_215 (Dense)           (None, 1)                 33        \n",
      "                                                                 \n",
      "=================================================================\n",
      "Total params: 103,890\n",
      "Trainable params: 103,865\n",
      "Non-trainable params: 25\n",
      "_________________________________________________________________\n"
     ]
    }
   ],
   "source": [
    "model.summary()"
   ]
  },
  {
   "cell_type": "code",
   "execution_count": null,
   "id": "f098e053",
   "metadata": {},
   "outputs": [],
   "source": []
  },
  {
   "cell_type": "code",
   "execution_count": 325,
   "id": "29012182",
   "metadata": {},
   "outputs": [],
   "source": [
    "earlystop = keras.callbacks.EarlyStopping(monitor='val_loss',patience=15)"
   ]
  },
  {
   "cell_type": "code",
   "execution_count": 326,
   "id": "429a02cb",
   "metadata": {
    "scrolled": true
   },
   "outputs": [
    {
     "name": "stdout",
     "output_type": "stream",
     "text": [
      "Epoch 1/1000\n",
      "278/278 [==============================] - 1s 2ms/step - loss: 0.1575 - val_loss: 0.1505\n",
      "Epoch 2/1000\n",
      "278/278 [==============================] - 0s 2ms/step - loss: 0.1514 - val_loss: 0.1473\n",
      "Epoch 3/1000\n",
      "278/278 [==============================] - 0s 2ms/step - loss: 0.1497 - val_loss: 0.1492\n",
      "Epoch 4/1000\n",
      "278/278 [==============================] - 0s 2ms/step - loss: 0.1484 - val_loss: 0.1471\n",
      "Epoch 5/1000\n",
      "278/278 [==============================] - 0s 2ms/step - loss: 0.1478 - val_loss: 0.1475\n",
      "Epoch 6/1000\n",
      "278/278 [==============================] - 0s 2ms/step - loss: 0.1471 - val_loss: 0.1471\n",
      "Epoch 7/1000\n",
      "278/278 [==============================] - 0s 2ms/step - loss: 0.1463 - val_loss: 0.1472\n",
      "Epoch 8/1000\n",
      "278/278 [==============================] - 0s 2ms/step - loss: 0.1451 - val_loss: 0.1463\n",
      "Epoch 9/1000\n",
      "278/278 [==============================] - 0s 2ms/step - loss: 0.1450 - val_loss: 0.1468\n",
      "Epoch 10/1000\n",
      "278/278 [==============================] - 0s 2ms/step - loss: 0.1442 - val_loss: 0.1468\n",
      "Epoch 11/1000\n",
      "278/278 [==============================] - 0s 2ms/step - loss: 0.1434 - val_loss: 0.1469\n",
      "Epoch 12/1000\n",
      "278/278 [==============================] - 0s 2ms/step - loss: 0.1428 - val_loss: 0.1457\n",
      "Epoch 13/1000\n",
      "278/278 [==============================] - 0s 2ms/step - loss: 0.1424 - val_loss: 0.1470\n",
      "Epoch 14/1000\n",
      "278/278 [==============================] - 0s 2ms/step - loss: 0.1421 - val_loss: 0.1461\n",
      "Epoch 15/1000\n",
      "278/278 [==============================] - 0s 2ms/step - loss: 0.1412 - val_loss: 0.1448\n",
      "Epoch 16/1000\n",
      "278/278 [==============================] - 0s 2ms/step - loss: 0.1412 - val_loss: 0.1454\n",
      "Epoch 17/1000\n",
      "278/278 [==============================] - 0s 2ms/step - loss: 0.1406 - val_loss: 0.1455\n",
      "Epoch 18/1000\n",
      "278/278 [==============================] - 0s 2ms/step - loss: 0.1400 - val_loss: 0.1449\n",
      "Epoch 19/1000\n",
      "278/278 [==============================] - 0s 2ms/step - loss: 0.1394 - val_loss: 0.1446\n",
      "Epoch 20/1000\n",
      "278/278 [==============================] - 0s 2ms/step - loss: 0.1388 - val_loss: 0.1449\n",
      "Epoch 21/1000\n",
      "278/278 [==============================] - 0s 2ms/step - loss: 0.1379 - val_loss: 0.1443\n",
      "Epoch 22/1000\n",
      "278/278 [==============================] - 0s 2ms/step - loss: 0.1372 - val_loss: 0.1449\n",
      "Epoch 23/1000\n",
      "278/278 [==============================] - 0s 2ms/step - loss: 0.1370 - val_loss: 0.1468\n",
      "Epoch 24/1000\n",
      "278/278 [==============================] - 0s 2ms/step - loss: 0.1361 - val_loss: 0.1448\n",
      "Epoch 25/1000\n",
      "278/278 [==============================] - 0s 2ms/step - loss: 0.1362 - val_loss: 0.1450\n",
      "Epoch 26/1000\n",
      "278/278 [==============================] - 0s 2ms/step - loss: 0.1354 - val_loss: 0.1458\n",
      "Epoch 27/1000\n",
      "278/278 [==============================] - 0s 2ms/step - loss: 0.1352 - val_loss: 0.1463\n",
      "Epoch 28/1000\n",
      "278/278 [==============================] - 0s 2ms/step - loss: 0.1344 - val_loss: 0.1445\n",
      "Epoch 29/1000\n",
      "278/278 [==============================] - 0s 2ms/step - loss: 0.1347 - val_loss: 0.1438\n",
      "Epoch 30/1000\n",
      "278/278 [==============================] - 0s 2ms/step - loss: 0.1338 - val_loss: 0.1464\n",
      "Epoch 31/1000\n",
      "278/278 [==============================] - 0s 2ms/step - loss: 0.1329 - val_loss: 0.1455\n",
      "Epoch 32/1000\n",
      "278/278 [==============================] - 0s 2ms/step - loss: 0.1331 - val_loss: 0.1449\n",
      "Epoch 33/1000\n",
      "278/278 [==============================] - 0s 2ms/step - loss: 0.1328 - val_loss: 0.1452\n",
      "Epoch 34/1000\n",
      "278/278 [==============================] - 0s 2ms/step - loss: 0.1320 - val_loss: 0.1445\n",
      "Epoch 35/1000\n",
      "278/278 [==============================] - 0s 2ms/step - loss: 0.1314 - val_loss: 0.1438\n",
      "Epoch 36/1000\n",
      "278/278 [==============================] - 0s 2ms/step - loss: 0.1308 - val_loss: 0.1453\n",
      "Epoch 37/1000\n",
      "278/278 [==============================] - 0s 2ms/step - loss: 0.1307 - val_loss: 0.1445\n",
      "Epoch 38/1000\n",
      "278/278 [==============================] - 0s 2ms/step - loss: 0.1302 - val_loss: 0.1456\n",
      "Epoch 39/1000\n",
      "278/278 [==============================] - 0s 2ms/step - loss: 0.1301 - val_loss: 0.1445\n",
      "Epoch 40/1000\n",
      "278/278 [==============================] - 0s 2ms/step - loss: 0.1292 - val_loss: 0.1448\n",
      "Epoch 41/1000\n",
      "278/278 [==============================] - 0s 2ms/step - loss: 0.1284 - val_loss: 0.1441\n",
      "Epoch 42/1000\n",
      "278/278 [==============================] - 0s 2ms/step - loss: 0.1279 - val_loss: 0.1457\n",
      "Epoch 43/1000\n",
      "278/278 [==============================] - 0s 2ms/step - loss: 0.1286 - val_loss: 0.1458\n",
      "Epoch 44/1000\n",
      "278/278 [==============================] - 0s 2ms/step - loss: 0.1274 - val_loss: 0.1447\n"
     ]
    },
    {
     "data": {
      "text/plain": [
       "<keras.callbacks.History at 0x7f4965e52280>"
      ]
     },
     "execution_count": 326,
     "metadata": {},
     "output_type": "execute_result"
    }
   ],
   "source": [
    "model.fit(x_train,y_train,epochs=1000,validation_split=.2,callbacks=[earlystop])"
   ]
  },
  {
   "cell_type": "code",
   "execution_count": 327,
   "id": "b064c851",
   "metadata": {},
   "outputs": [
    {
     "name": "stdout",
     "output_type": "stream",
     "text": [
      "Mean absolute error is : 0.14888222515583038\n"
     ]
    }
   ],
   "source": [
    "print(f\"Mean absolute error is : {model.evaluate(x_test,y_test,verbose=0)}\")"
   ]
  },
  {
   "cell_type": "code",
   "execution_count": 328,
   "id": "a0e308ba",
   "metadata": {},
   "outputs": [
    {
     "name": "stdout",
     "output_type": "stream",
     "text": [
      "Epoch 1/1000\n",
      "278/278 [==============================] - 0s 2ms/step - loss: 0.1352 - val_loss: 0.1350\n",
      "Epoch 2/1000\n",
      "278/278 [==============================] - 0s 2ms/step - loss: 0.1335 - val_loss: 0.1357\n",
      "Epoch 3/1000\n",
      "278/278 [==============================] - 0s 2ms/step - loss: 0.1323 - val_loss: 0.1364\n",
      "Epoch 4/1000\n",
      "278/278 [==============================] - 0s 2ms/step - loss: 0.1319 - val_loss: 0.1380\n",
      "Epoch 5/1000\n",
      "278/278 [==============================] - 0s 2ms/step - loss: 0.1314 - val_loss: 0.1364\n",
      "Epoch 6/1000\n",
      "278/278 [==============================] - 0s 2ms/step - loss: 0.1305 - val_loss: 0.1363\n",
      "Epoch 7/1000\n",
      "278/278 [==============================] - 0s 2ms/step - loss: 0.1302 - val_loss: 0.1405\n",
      "Epoch 8/1000\n",
      "278/278 [==============================] - 0s 2ms/step - loss: 0.1296 - val_loss: 0.1357\n",
      "Epoch 9/1000\n",
      "278/278 [==============================] - 0s 2ms/step - loss: 0.1292 - val_loss: 0.1387\n",
      "Epoch 10/1000\n",
      "278/278 [==============================] - 0s 2ms/step - loss: 0.1289 - val_loss: 0.1379\n",
      "Epoch 11/1000\n",
      "278/278 [==============================] - 0s 2ms/step - loss: 0.1280 - val_loss: 0.1401\n",
      "Epoch 12/1000\n",
      "278/278 [==============================] - 0s 2ms/step - loss: 0.1277 - val_loss: 0.1401\n",
      "Epoch 13/1000\n",
      "278/278 [==============================] - 0s 2ms/step - loss: 0.1272 - val_loss: 0.1429\n",
      "Epoch 14/1000\n",
      "278/278 [==============================] - 0s 2ms/step - loss: 0.1263 - val_loss: 0.1425\n",
      "Epoch 15/1000\n",
      "278/278 [==============================] - 0s 2ms/step - loss: 0.1261 - val_loss: 0.1416\n",
      "Epoch 16/1000\n",
      "278/278 [==============================] - 0s 2ms/step - loss: 0.1249 - val_loss: 0.1413\n"
     ]
    },
    {
     "data": {
      "text/plain": [
       "<keras.callbacks.History at 0x7f4965d903a0>"
      ]
     },
     "execution_count": 328,
     "metadata": {},
     "output_type": "execute_result"
    }
   ],
   "source": [
    "model.fit(tracks.drop(columns=[\"valence\",\"song_id\"]),\n",
    "          tracks[\"valence\"],\n",
    "          batch_size=40,\n",
    "          epochs=1000,\n",
    "          validation_split=.2,\n",
    "          callbacks=[earlystop])"
   ]
  },
  {
   "cell_type": "code",
   "execution_count": 329,
   "id": "820b1759",
   "metadata": {},
   "outputs": [],
   "source": [
    "predicted_NN = model.predict(test_new_data)"
   ]
  },
  {
   "cell_type": "code",
   "execution_count": 330,
   "id": "2eb82bdb",
   "metadata": {},
   "outputs": [
    {
     "name": "stdout",
     "output_type": "stream",
     "text": [
      "Mean absolute error for the new tracks is : 0.1487957764284541\n"
     ]
    }
   ],
   "source": [
    "NN_mean_absolute_error = mean_absolute_error(test_tracks[\"valence\"],predicted_NN)\n",
    "print(f\"Mean absolute error for the new tracks is : {NN_mean_absolute_error}\")"
   ]
  },
  {
   "cell_type": "code",
   "execution_count": 331,
   "id": "bec1f8c4",
   "metadata": {},
   "outputs": [],
   "source": [
    "results.update({\"Neural Network\" : NN_mean_absolute_error})"
   ]
  },
  {
   "cell_type": "code",
   "execution_count": null,
   "id": "fdef7432",
   "metadata": {},
   "outputs": [],
   "source": []
  },
  {
   "cell_type": "code",
   "execution_count": 353,
   "id": "e54b82ae",
   "metadata": {
    "scrolled": false
   },
   "outputs": [
    {
     "data": {
      "image/png": "[encoded data removed]",
      "text/plain": [
       "<Figure size 864x720 with 1 Axes>"
      ]
     },
     "metadata": {
      "needs_background": "light"
     },
     "output_type": "display_data"
    }
   ],
   "source": [
    "plt.figure(figsize=(12,10))\n",
    "plt.plot(results.keys(),results.values(),c=\"c\",marker=\"*\",markersize=20,mec=\"k\",mew=1.8,ls=\"-.\")\n",
    "plt.ylabel(\"Mean Absolute Error\")\n",
    "plt.xlabel(\"Models\")\n",
    "plt.ylim(ymin=0)\n",
    "plt.grid()"
   ]
  },
  {
   "cell_type": "code",
   "execution_count": null,
   "id": "2c4ca7d9",
   "metadata": {},
   "outputs": [],
   "source": []
  },
  {
   "cell_type": "code",
   "execution_count": null,
   "id": "b041d0c7",
   "metadata": {},
   "outputs": [],
   "source": []
  },
  {
   "cell_type": "code",
   "execution_count": null,
   "id": "061de99b",
   "metadata": {},
   "outputs": [],
   "source": []
  },
  {
   "cell_type": "code",
   "execution_count": null,
   "id": "1a903fa0",
   "metadata": {},
   "outputs": [],
   "source": []
  },
  {
   "cell_type": "code",
   "execution_count": null,
   "id": "58607391",
   "metadata": {},
   "outputs": [],
   "source": []
  }
 ],
 "metadata": {
  "kernelspec": {
   "display_name": "Spotify_analysis",
   "language": "python",
   "name": "spotify_analysis"
  },
  "language_info": {
   "codemirror_mode": {
    "name": "ipython",
    "version": 3
   },
   "file_extension": ".py",
   "mimetype": "text/x-python",
   "name": "python",
   "nbconvert_exporter": "python",
   "pygments_lexer": "ipython3",
   "version": "3.8.10"
  }
 },
 "nbformat": 4,
 "nbformat_minor": 5
}
